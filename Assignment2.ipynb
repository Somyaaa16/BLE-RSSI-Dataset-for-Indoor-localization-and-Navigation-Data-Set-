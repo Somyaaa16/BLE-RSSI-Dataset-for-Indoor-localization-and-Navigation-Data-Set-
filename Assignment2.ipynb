{
 "cells": [
  {
   "cell_type": "code",
   "execution_count": 1,
   "metadata": {},
   "outputs": [],
   "source": [
    "#loading the csv file\n",
    "beacon='iBeacon_RSSI_Labeled.csv'"
   ]
  },
  {
   "cell_type": "code",
   "execution_count": 2,
   "metadata": {},
   "outputs": [],
   "source": [
    "#installing pandas packages\n",
    "import pandas as pd\n",
    "import matplotlib.pyplot as plt\n",
    "import numpy as np\n",
    "import seaborn as sns\n",
    "import statistics"
   ]
  },
  {
   "cell_type": "code",
   "execution_count": 3,
   "metadata": {},
   "outputs": [],
   "source": [
    "# reading the csv file and assigning it to 'beacon' variable\n",
    "beacon = pd.read_csv(beacon,decimal=\",\")"
   ]
  },
  {
   "cell_type": "code",
   "execution_count": 4,
   "metadata": {},
   "outputs": [
    {
     "data": {
      "text/plain": [
       "Index(['location', 'date', 'b3001', 'b3002', 'b3003', 'b3004', 'b3005',\n",
       "       'b3006', 'b3007', 'b3008', 'b3009', 'b3010', 'b3011', 'b3012', 'b3013'],\n",
       "      dtype='object')"
      ]
     },
     "execution_count": 4,
     "metadata": {},
     "output_type": "execute_result"
    }
   ],
   "source": [
    "# display all columns in beacon\n",
    "features_names=beacon.columns\n",
    "features_names"
   ]
  },
  {
   "cell_type": "code",
   "execution_count": 5,
   "metadata": {},
   "outputs": [
    {
     "data": {
      "text/plain": [
       "location    object\n",
       "date        object\n",
       "b3001        int64\n",
       "b3002        int64\n",
       "b3003        int64\n",
       "b3004        int64\n",
       "b3005        int64\n",
       "b3006        int64\n",
       "b3007        int64\n",
       "b3008        int64\n",
       "b3009        int64\n",
       "b3010        int64\n",
       "b3011        int64\n",
       "b3012        int64\n",
       "b3013        int64\n",
       "dtype: object"
      ]
     },
     "execution_count": 5,
     "metadata": {},
     "output_type": "execute_result"
    }
   ],
   "source": [
    "#checking data types of all columns\n",
    "beacon.dtypes"
   ]
  },
  {
   "cell_type": "code",
   "execution_count": 6,
   "metadata": {},
   "outputs": [
    {
     "data": {
      "text/plain": [
       "(1420, 15)"
      ]
     },
     "execution_count": 6,
     "metadata": {},
     "output_type": "execute_result"
    }
   ],
   "source": [
    "#checking dimension of beacon\n",
    "beacon.shape"
   ]
  },
  {
   "cell_type": "code",
   "execution_count": 7,
   "metadata": {},
   "outputs": [],
   "source": [
    "#creating a dataframe of beacon\n",
    "df=pd.DataFrame(beacon)"
   ]
  },
  {
   "cell_type": "code",
   "execution_count": 8,
   "metadata": {},
   "outputs": [
    {
     "data": {
      "text/plain": [
       "False    1420\n",
       "Name: location, dtype: int64"
      ]
     },
     "execution_count": 8,
     "metadata": {},
     "output_type": "execute_result"
    }
   ],
   "source": [
    "beacon['location'].isnull().value_counts()"
   ]
  },
  {
   "cell_type": "code",
   "execution_count": 9,
   "metadata": {},
   "outputs": [
    {
     "data": {
      "text/plain": [
       "False    1420\n",
       "Name: date, dtype: int64"
      ]
     },
     "execution_count": 9,
     "metadata": {},
     "output_type": "execute_result"
    }
   ],
   "source": [
    "beacon['date'].isnull().value_counts()"
   ]
  },
  {
   "cell_type": "code",
   "execution_count": 10,
   "metadata": {},
   "outputs": [
    {
     "data": {
      "text/plain": [
       "False    1420\n",
       "Name: b3001, dtype: int64"
      ]
     },
     "execution_count": 10,
     "metadata": {},
     "output_type": "execute_result"
    }
   ],
   "source": [
    "beacon['b3001'].isnull().value_counts()"
   ]
  },
  {
   "cell_type": "code",
   "execution_count": 11,
   "metadata": {},
   "outputs": [
    {
     "data": {
      "text/plain": [
       "False    1420\n",
       "Name: b3002, dtype: int64"
      ]
     },
     "execution_count": 11,
     "metadata": {},
     "output_type": "execute_result"
    }
   ],
   "source": [
    "beacon['b3002'].isnull().value_counts()"
   ]
  },
  {
   "cell_type": "code",
   "execution_count": 12,
   "metadata": {},
   "outputs": [
    {
     "data": {
      "text/plain": [
       "False    1420\n",
       "Name: b3003, dtype: int64"
      ]
     },
     "execution_count": 12,
     "metadata": {},
     "output_type": "execute_result"
    }
   ],
   "source": [
    "beacon['b3003'].isnull().value_counts()"
   ]
  },
  {
   "cell_type": "code",
   "execution_count": 13,
   "metadata": {},
   "outputs": [
    {
     "data": {
      "text/plain": [
       "False    1420\n",
       "Name: b3004, dtype: int64"
      ]
     },
     "execution_count": 13,
     "metadata": {},
     "output_type": "execute_result"
    }
   ],
   "source": [
    "beacon['b3004'].isnull().value_counts()"
   ]
  },
  {
   "cell_type": "code",
   "execution_count": 14,
   "metadata": {},
   "outputs": [
    {
     "data": {
      "text/plain": [
       "False    1420\n",
       "Name: b3005, dtype: int64"
      ]
     },
     "execution_count": 14,
     "metadata": {},
     "output_type": "execute_result"
    }
   ],
   "source": [
    "beacon['b3005'].isnull().value_counts()"
   ]
  },
  {
   "cell_type": "code",
   "execution_count": 15,
   "metadata": {},
   "outputs": [
    {
     "data": {
      "text/plain": [
       "False    1420\n",
       "Name: b3006, dtype: int64"
      ]
     },
     "execution_count": 15,
     "metadata": {},
     "output_type": "execute_result"
    }
   ],
   "source": [
    "beacon['b3006'].isnull().value_counts()"
   ]
  },
  {
   "cell_type": "code",
   "execution_count": 16,
   "metadata": {},
   "outputs": [
    {
     "data": {
      "text/plain": [
       "False    1420\n",
       "Name: b3007, dtype: int64"
      ]
     },
     "execution_count": 16,
     "metadata": {},
     "output_type": "execute_result"
    }
   ],
   "source": [
    "beacon['b3007'].isnull().value_counts()"
   ]
  },
  {
   "cell_type": "code",
   "execution_count": 17,
   "metadata": {},
   "outputs": [
    {
     "data": {
      "text/plain": [
       "False    1420\n",
       "Name: b3008, dtype: int64"
      ]
     },
     "execution_count": 17,
     "metadata": {},
     "output_type": "execute_result"
    }
   ],
   "source": [
    "beacon['b3008'].isnull().value_counts()"
   ]
  },
  {
   "cell_type": "code",
   "execution_count": 18,
   "metadata": {},
   "outputs": [
    {
     "data": {
      "text/plain": [
       "False    1420\n",
       "Name: b3009, dtype: int64"
      ]
     },
     "execution_count": 18,
     "metadata": {},
     "output_type": "execute_result"
    }
   ],
   "source": [
    "beacon['b3009'].isnull().value_counts()"
   ]
  },
  {
   "cell_type": "code",
   "execution_count": 19,
   "metadata": {},
   "outputs": [
    {
     "data": {
      "text/plain": [
       "False    1420\n",
       "Name: b3010, dtype: int64"
      ]
     },
     "execution_count": 19,
     "metadata": {},
     "output_type": "execute_result"
    }
   ],
   "source": [
    "beacon['b3010'].isnull().value_counts()"
   ]
  },
  {
   "cell_type": "code",
   "execution_count": 20,
   "metadata": {},
   "outputs": [
    {
     "data": {
      "text/plain": [
       "False    1420\n",
       "Name: b3011, dtype: int64"
      ]
     },
     "execution_count": 20,
     "metadata": {},
     "output_type": "execute_result"
    }
   ],
   "source": [
    "beacon['b3011'].isnull().value_counts()"
   ]
  },
  {
   "cell_type": "code",
   "execution_count": 21,
   "metadata": {},
   "outputs": [
    {
     "data": {
      "text/plain": [
       "False    1420\n",
       "Name: b3012, dtype: int64"
      ]
     },
     "execution_count": 21,
     "metadata": {},
     "output_type": "execute_result"
    }
   ],
   "source": [
    "beacon['b3012'].isnull().value_counts()"
   ]
  },
  {
   "cell_type": "code",
   "execution_count": 22,
   "metadata": {},
   "outputs": [
    {
     "data": {
      "text/plain": [
       "False    1420\n",
       "Name: b3013, dtype: int64"
      ]
     },
     "execution_count": 22,
     "metadata": {},
     "output_type": "execute_result"
    }
   ],
   "source": [
    "beacon['b3013'].isnull().value_counts()"
   ]
  },
  {
   "cell_type": "code",
   "execution_count": 23,
   "metadata": {},
   "outputs": [
    {
     "data": {
      "text/html": [
       "<div>\n",
       "<style scoped>\n",
       "    .dataframe tbody tr th:only-of-type {\n",
       "        vertical-align: middle;\n",
       "    }\n",
       "\n",
       "    .dataframe tbody tr th {\n",
       "        vertical-align: top;\n",
       "    }\n",
       "\n",
       "    .dataframe thead th {\n",
       "        text-align: right;\n",
       "    }\n",
       "</style>\n",
       "<table border=\"1\" class=\"dataframe\">\n",
       "  <thead>\n",
       "    <tr style=\"text-align: right;\">\n",
       "      <th></th>\n",
       "      <th>b3001</th>\n",
       "      <th>b3002</th>\n",
       "      <th>b3003</th>\n",
       "      <th>b3004</th>\n",
       "      <th>b3005</th>\n",
       "      <th>b3006</th>\n",
       "      <th>b3007</th>\n",
       "      <th>b3008</th>\n",
       "      <th>b3009</th>\n",
       "      <th>b3010</th>\n",
       "      <th>b3011</th>\n",
       "      <th>b3012</th>\n",
       "      <th>b3013</th>\n",
       "    </tr>\n",
       "  </thead>\n",
       "  <tbody>\n",
       "    <tr>\n",
       "      <td>count</td>\n",
       "      <td>1420.000000</td>\n",
       "      <td>1420.000000</td>\n",
       "      <td>1420.000000</td>\n",
       "      <td>1420.000000</td>\n",
       "      <td>1420.000000</td>\n",
       "      <td>1420.000000</td>\n",
       "      <td>1420.000000</td>\n",
       "      <td>1420.000000</td>\n",
       "      <td>1420.000000</td>\n",
       "      <td>1420.000000</td>\n",
       "      <td>1420.000000</td>\n",
       "      <td>1420.000000</td>\n",
       "      <td>1420.000000</td>\n",
       "    </tr>\n",
       "    <tr>\n",
       "      <td>mean</td>\n",
       "      <td>-197.825352</td>\n",
       "      <td>-156.623944</td>\n",
       "      <td>-175.533099</td>\n",
       "      <td>-164.534507</td>\n",
       "      <td>-178.378169</td>\n",
       "      <td>-175.063380</td>\n",
       "      <td>-195.637324</td>\n",
       "      <td>-191.970423</td>\n",
       "      <td>-197.145070</td>\n",
       "      <td>-197.442254</td>\n",
       "      <td>-197.748592</td>\n",
       "      <td>-197.233803</td>\n",
       "      <td>-196.065493</td>\n",
       "    </tr>\n",
       "    <tr>\n",
       "      <td>std</td>\n",
       "      <td>16.259105</td>\n",
       "      <td>60.217747</td>\n",
       "      <td>49.452958</td>\n",
       "      <td>56.523261</td>\n",
       "      <td>47.175799</td>\n",
       "      <td>49.596627</td>\n",
       "      <td>22.880980</td>\n",
       "      <td>30.733742</td>\n",
       "      <td>19.160207</td>\n",
       "      <td>17.741632</td>\n",
       "      <td>16.852535</td>\n",
       "      <td>18.541088</td>\n",
       "      <td>22.053924</td>\n",
       "    </tr>\n",
       "    <tr>\n",
       "      <td>min</td>\n",
       "      <td>-200.000000</td>\n",
       "      <td>-200.000000</td>\n",
       "      <td>-200.000000</td>\n",
       "      <td>-200.000000</td>\n",
       "      <td>-200.000000</td>\n",
       "      <td>-200.000000</td>\n",
       "      <td>-200.000000</td>\n",
       "      <td>-200.000000</td>\n",
       "      <td>-200.000000</td>\n",
       "      <td>-200.000000</td>\n",
       "      <td>-200.000000</td>\n",
       "      <td>-200.000000</td>\n",
       "      <td>-200.000000</td>\n",
       "    </tr>\n",
       "    <tr>\n",
       "      <td>25%</td>\n",
       "      <td>-200.000000</td>\n",
       "      <td>-200.000000</td>\n",
       "      <td>-200.000000</td>\n",
       "      <td>-200.000000</td>\n",
       "      <td>-200.000000</td>\n",
       "      <td>-200.000000</td>\n",
       "      <td>-200.000000</td>\n",
       "      <td>-200.000000</td>\n",
       "      <td>-200.000000</td>\n",
       "      <td>-200.000000</td>\n",
       "      <td>-200.000000</td>\n",
       "      <td>-200.000000</td>\n",
       "      <td>-200.000000</td>\n",
       "    </tr>\n",
       "    <tr>\n",
       "      <td>50%</td>\n",
       "      <td>-200.000000</td>\n",
       "      <td>-200.000000</td>\n",
       "      <td>-200.000000</td>\n",
       "      <td>-200.000000</td>\n",
       "      <td>-200.000000</td>\n",
       "      <td>-200.000000</td>\n",
       "      <td>-200.000000</td>\n",
       "      <td>-200.000000</td>\n",
       "      <td>-200.000000</td>\n",
       "      <td>-200.000000</td>\n",
       "      <td>-200.000000</td>\n",
       "      <td>-200.000000</td>\n",
       "      <td>-200.000000</td>\n",
       "    </tr>\n",
       "    <tr>\n",
       "      <td>75%</td>\n",
       "      <td>-200.000000</td>\n",
       "      <td>-78.000000</td>\n",
       "      <td>-200.000000</td>\n",
       "      <td>-80.000000</td>\n",
       "      <td>-200.000000</td>\n",
       "      <td>-200.000000</td>\n",
       "      <td>-200.000000</td>\n",
       "      <td>-200.000000</td>\n",
       "      <td>-200.000000</td>\n",
       "      <td>-200.000000</td>\n",
       "      <td>-200.000000</td>\n",
       "      <td>-200.000000</td>\n",
       "      <td>-200.000000</td>\n",
       "    </tr>\n",
       "    <tr>\n",
       "      <td>max</td>\n",
       "      <td>-67.000000</td>\n",
       "      <td>-59.000000</td>\n",
       "      <td>-56.000000</td>\n",
       "      <td>-56.000000</td>\n",
       "      <td>-60.000000</td>\n",
       "      <td>-62.000000</td>\n",
       "      <td>-58.000000</td>\n",
       "      <td>-56.000000</td>\n",
       "      <td>-55.000000</td>\n",
       "      <td>-61.000000</td>\n",
       "      <td>-59.000000</td>\n",
       "      <td>-60.000000</td>\n",
       "      <td>-59.000000</td>\n",
       "    </tr>\n",
       "  </tbody>\n",
       "</table>\n",
       "</div>"
      ],
      "text/plain": [
       "             b3001        b3002        b3003        b3004        b3005  \\\n",
       "count  1420.000000  1420.000000  1420.000000  1420.000000  1420.000000   \n",
       "mean   -197.825352  -156.623944  -175.533099  -164.534507  -178.378169   \n",
       "std      16.259105    60.217747    49.452958    56.523261    47.175799   \n",
       "min    -200.000000  -200.000000  -200.000000  -200.000000  -200.000000   \n",
       "25%    -200.000000  -200.000000  -200.000000  -200.000000  -200.000000   \n",
       "50%    -200.000000  -200.000000  -200.000000  -200.000000  -200.000000   \n",
       "75%    -200.000000   -78.000000  -200.000000   -80.000000  -200.000000   \n",
       "max     -67.000000   -59.000000   -56.000000   -56.000000   -60.000000   \n",
       "\n",
       "             b3006        b3007        b3008        b3009        b3010  \\\n",
       "count  1420.000000  1420.000000  1420.000000  1420.000000  1420.000000   \n",
       "mean   -175.063380  -195.637324  -191.970423  -197.145070  -197.442254   \n",
       "std      49.596627    22.880980    30.733742    19.160207    17.741632   \n",
       "min    -200.000000  -200.000000  -200.000000  -200.000000  -200.000000   \n",
       "25%    -200.000000  -200.000000  -200.000000  -200.000000  -200.000000   \n",
       "50%    -200.000000  -200.000000  -200.000000  -200.000000  -200.000000   \n",
       "75%    -200.000000  -200.000000  -200.000000  -200.000000  -200.000000   \n",
       "max     -62.000000   -58.000000   -56.000000   -55.000000   -61.000000   \n",
       "\n",
       "             b3011        b3012        b3013  \n",
       "count  1420.000000  1420.000000  1420.000000  \n",
       "mean   -197.748592  -197.233803  -196.065493  \n",
       "std      16.852535    18.541088    22.053924  \n",
       "min    -200.000000  -200.000000  -200.000000  \n",
       "25%    -200.000000  -200.000000  -200.000000  \n",
       "50%    -200.000000  -200.000000  -200.000000  \n",
       "75%    -200.000000  -200.000000  -200.000000  \n",
       "max     -59.000000   -60.000000   -59.000000  "
      ]
     },
     "execution_count": 23,
     "metadata": {},
     "output_type": "execute_result"
    }
   ],
   "source": [
    "#calculating basic statistics\n",
    "beacon.describe()"
   ]
  },
  {
   "cell_type": "code",
   "execution_count": 24,
   "metadata": {},
   "outputs": [
    {
     "data": {
      "text/plain": [
       "<matplotlib.axes._subplots.AxesSubplot at 0x16f2951b608>"
      ]
     },
     "execution_count": 24,
     "metadata": {},
     "output_type": "execute_result"
    },
    {
     "data": {
      "image/png": "[encoded data removed]",
      "text/plain": [
       "<Figure size 2160x1440 with 1 Axes>"
      ]
     },
     "metadata": {
      "needs_background": "light"
     },
     "output_type": "display_data"
    }
   ],
   "source": [
    "# mapping all locations column in form of histogram\n",
    "\n",
    "loc=beacon.iloc[:,0]\n",
    "loc.hist(figsize=(30,20))"
   ]
  },
  {
   "cell_type": "code",
   "execution_count": 25,
   "metadata": {},
   "outputs": [],
   "source": [
    "# storing ibeacon readings in 'values' variable\n",
    "values=beacon.iloc[:,2:]"
   ]
  },
  {
   "cell_type": "code",
   "execution_count": 26,
   "metadata": {},
   "outputs": [
    {
     "data": {
      "text/plain": [
       "array([[<matplotlib.axes._subplots.AxesSubplot object at 0x0000016F297E9E48>,\n",
       "        <matplotlib.axes._subplots.AxesSubplot object at 0x0000016F29A41F08>,\n",
       "        <matplotlib.axes._subplots.AxesSubplot object at 0x0000016F29A72288>,\n",
       "        <matplotlib.axes._subplots.AxesSubplot object at 0x0000016F29AA6F48>],\n",
       "       [<matplotlib.axes._subplots.AxesSubplot object at 0x0000016F29AE4088>,\n",
       "        <matplotlib.axes._subplots.AxesSubplot object at 0x0000016F29B1B188>,\n",
       "        <matplotlib.axes._subplots.AxesSubplot object at 0x0000016F29BB4288>,\n",
       "        <matplotlib.axes._subplots.AxesSubplot object at 0x0000016F29BED388>],\n",
       "       [<matplotlib.axes._subplots.AxesSubplot object at 0x0000016F29BF3F48>,\n",
       "        <matplotlib.axes._subplots.AxesSubplot object at 0x0000016F29C33148>,\n",
       "        <matplotlib.axes._subplots.AxesSubplot object at 0x0000016F29C946C8>,\n",
       "        <matplotlib.axes._subplots.AxesSubplot object at 0x0000016F29CCE788>],\n",
       "       [<matplotlib.axes._subplots.AxesSubplot object at 0x0000016F29D088C8>,\n",
       "        <matplotlib.axes._subplots.AxesSubplot object at 0x0000016F29D41A08>,\n",
       "        <matplotlib.axes._subplots.AxesSubplot object at 0x0000016F29D7ABC8>,\n",
       "        <matplotlib.axes._subplots.AxesSubplot object at 0x0000016F29DB2DC8>]],\n",
       "      dtype=object)"
      ]
     },
     "execution_count": 26,
     "metadata": {},
     "output_type": "execute_result"
    },
    {
     "data": {
      "image/png": "[encoded data removed]",
      "text/plain": [
       "<Figure size 1440x1080 with 16 Axes>"
      ]
     },
     "metadata": {
      "needs_background": "light"
     },
     "output_type": "display_data"
    }
   ],
   "source": [
    "# plotting 'values' in the form of histogram\n",
    "values.hist(figsize=(20,15))"
   ]
  },
  {
   "cell_type": "code",
   "execution_count": 27,
   "metadata": {
    "scrolled": true
   },
   "outputs": [
    {
     "data": {
      "text/plain": [
       "I08    12\n",
       "F08     4\n",
       "I07     4\n",
       "I09     2\n",
       "I04     2\n",
       "L09     1\n",
       "Name: location, dtype: int64"
      ]
     },
     "execution_count": 27,
     "metadata": {},
     "output_type": "execute_result"
    },
    {
     "data": {
      "image/png": "[encoded data removed]",
      "text/plain": [
       "<Figure size 432x288 with 1 Axes>"
      ]
     },
     "metadata": {
      "needs_background": "light"
     },
     "output_type": "display_data"
    }
   ],
   "source": [
    "# creating a mask for ibeacon3001 values above -90 and ploting a bar graph against the locations of users\n",
    "mask1=beacon['b3001']>-90\n",
    "a=beacon.loc[mask1,'location'].value_counts()\n",
    "a1=a.plot(kind='bar')\n",
    "a1.grid()\n",
    "a"
   ]
  },
  {
   "cell_type": "code",
   "execution_count": 28,
   "metadata": {},
   "outputs": [
    {
     "data": {
      "text/plain": [
       "Text(0, 0.5, 'frequency')"
      ]
     },
     "execution_count": 28,
     "metadata": {},
     "output_type": "execute_result"
    },
    {
     "data": {
      "image/png": "[encoded data removed]",
      "text/plain": [
       "<Figure size 432x288 with 1 Axes>"
      ]
     },
     "metadata": {
      "needs_background": "light"
     },
     "output_type": "display_data"
    }
   ],
   "source": [
    "# creating a mask for ibeacon3002 values above -90 and ploting a bar graph against the locations of users\n",
    "mask2=beacon['b3002']>-90\n",
    "a=beacon.loc[mask2,'location'].value_counts()\n",
    "a1=a.plot(kind='bar',color='orange')\n",
    "a1.grid()\n",
    "a1.set_title('strength of beacon b3002 at particular location')\n",
    "a1.set_xlabel('User location')\n",
    "a1.set_ylabel('frequency')"
   ]
  },
  {
   "cell_type": "code",
   "execution_count": 29,
   "metadata": {},
   "outputs": [
    {
     "data": {
      "text/plain": [
       "Text(0, 0.5, 'frequency')"
      ]
     },
     "execution_count": 29,
     "metadata": {},
     "output_type": "execute_result"
    },
    {
     "data": {
      "image/png": "[encoded data removed]",
      "text/plain": [
       "<Figure size 432x288 with 1 Axes>"
      ]
     },
     "metadata": {
      "needs_background": "light"
     },
     "output_type": "display_data"
    }
   ],
   "source": [
    "# creating a mask for ibeacon3003 values above -90 and ploting a bar graph against the locations of users\n",
    "mask3=beacon['b3003']>-90\n",
    "a=beacon.loc[mask3,'location'].value_counts()\n",
    "a1=a.plot(kind='bar',color='pink')\n",
    "a1.grid()\n",
    "a1.set_title('strength of beacon b3003 at particular location')\n",
    "a1.set_xlabel('User location')\n",
    "a1.set_ylabel('frequency')"
   ]
  },
  {
   "cell_type": "code",
   "execution_count": 30,
   "metadata": {},
   "outputs": [
    {
     "data": {
      "text/plain": [
       "Text(0, 0.5, 'frequency')"
      ]
     },
     "execution_count": 30,
     "metadata": {},
     "output_type": "execute_result"
    },
    {
     "data": {
      "image/png": "[encoded data removed]",
      "text/plain": [
       "<Figure size 432x288 with 1 Axes>"
      ]
     },
     "metadata": {
      "needs_background": "light"
     },
     "output_type": "display_data"
    }
   ],
   "source": [
    "# creating a mask for ibeacon3004 values above -90 and ploting a bar graph against the locations of users\n",
    "mask4=beacon['b3004']>-90\n",
    "a=beacon.loc[mask4,'location'].value_counts()\n",
    "a1=a.plot(kind='bar')\n",
    "a1.grid()\n",
    "a1.set_title('strength of beacon b3004 at particular location')\n",
    "a1.set_xlabel('User location')\n",
    "a1.set_ylabel('frequency')"
   ]
  },
  {
   "cell_type": "code",
   "execution_count": 31,
   "metadata": {},
   "outputs": [
    {
     "data": {
      "text/plain": [
       "Text(0, 0.5, 'frequency')"
      ]
     },
     "execution_count": 31,
     "metadata": {},
     "output_type": "execute_result"
    },
    {
     "data": {
      "image/png": "[encoded data removed]",
      "text/plain": [
       "<Figure size 432x288 with 1 Axes>"
      ]
     },
     "metadata": {
      "needs_background": "light"
     },
     "output_type": "display_data"
    }
   ],
   "source": [
    "# creating a mask for ibeacon3005 values above -90 and ploting a bar graph against the locations of users\n",
    "mask5=beacon['b3005']>-90\n",
    "a=beacon.loc[mask5,'location'].value_counts()\n",
    "a1=a.plot(kind='bar',color='green')\n",
    "a1.grid()\n",
    "a1.set_title('strength of beacon b3005 at particular location')\n",
    "a1.set_xlabel('User location')\n",
    "a1.set_ylabel('frequency')"
   ]
  },
  {
   "cell_type": "code",
   "execution_count": 32,
   "metadata": {},
   "outputs": [
    {
     "data": {
      "text/plain": [
       "Text(0, 0.5, 'frequency')"
      ]
     },
     "execution_count": 32,
     "metadata": {},
     "output_type": "execute_result"
    },
    {
     "data": {
      "image/png": "[encoded data removed]",
      "text/plain": [
       "<Figure size 432x288 with 1 Axes>"
      ]
     },
     "metadata": {
      "needs_background": "light"
     },
     "output_type": "display_data"
    }
   ],
   "source": [
    "# creating a mask for ibeacon3006 values above -90 and ploting a bar graph against the locations of users\n",
    "mask6=beacon['b3006']>-90\n",
    "a=beacon.loc[mask6,'location'].value_counts()\n",
    "a1=a.plot(kind='bar',color='red')\n",
    "a1.grid()\n",
    "a1.set_title('strength of beacon b3006 at particular location')\n",
    "a1.set_xlabel('User location')\n",
    "a1.set_ylabel('frequency')"
   ]
  },
  {
   "cell_type": "code",
   "execution_count": 33,
   "metadata": {},
   "outputs": [
    {
     "data": {
      "text/plain": [
       "Text(0, 0.5, 'frequency')"
      ]
     },
     "execution_count": 33,
     "metadata": {},
     "output_type": "execute_result"
    },
    {
     "data": {
      "image/png": "[encoded data removed]",
      "text/plain": [
       "<Figure size 432x288 with 1 Axes>"
      ]
     },
     "metadata": {
      "needs_background": "light"
     },
     "output_type": "display_data"
    }
   ],
   "source": [
    "# creating a mask for ibeacon3007 values above -90 and ploting a bar graph against the locations of users\n",
    "mask7=beacon['b3007']>-90\n",
    "a=beacon.loc[mask7,'location'].value_counts()\n",
    "a1=a.plot(kind='bar')\n",
    "a1.grid()\n",
    "a\n",
    "a1.set_title('strength of beacon at particular location')\n",
    "a1.set_xlabel('User location')\n",
    "a1.set_ylabel('frequency')"
   ]
  },
  {
   "cell_type": "code",
   "execution_count": 34,
   "metadata": {},
   "outputs": [
    {
     "data": {
      "image/png": "[encoded data removed]",
      "text/plain": [
       "<Figure size 432x288 with 1 Axes>"
      ]
     },
     "metadata": {
      "needs_background": "light"
     },
     "output_type": "display_data"
    }
   ],
   "source": [
    "# creating a mask for ibeacon3008 values above -90 and ploting a bar graph against the locations of users\n",
    "mask8=beacon['b3008']>-90\n",
    "a=beacon.loc[mask8,'location'].value_counts()\n",
    "a1=a.plot(kind='bar')\n",
    "a1.grid()"
   ]
  },
  {
   "cell_type": "code",
   "execution_count": 35,
   "metadata": {},
   "outputs": [
    {
     "data": {
      "text/plain": [
       "Text(0, 0.5, 'frequency')"
      ]
     },
     "execution_count": 35,
     "metadata": {},
     "output_type": "execute_result"
    },
    {
     "data": {
      "image/png": "[encoded data removed]",
      "text/plain": [
       "<Figure size 432x288 with 1 Axes>"
      ]
     },
     "metadata": {
      "needs_background": "light"
     },
     "output_type": "display_data"
    }
   ],
   "source": [
    "# creating a mask for ibeacon3009 values above -90 and ploting a bar graph against the locations of users\n",
    "mask9=beacon['b3009']>-90\n",
    "a=beacon.loc[mask9,'location'].value_counts()\n",
    "a1=a.plot(kind='bar')\n",
    "a1.grid()\n",
    "a1.set_title('strength of beacon at particular location')\n",
    "a1.set_xlabel('User location')\n",
    "a1.set_ylabel('frequency')"
   ]
  },
  {
   "cell_type": "code",
   "execution_count": 36,
   "metadata": {},
   "outputs": [
    {
     "data": {
      "text/plain": [
       "Text(0, 0.5, 'frequency')"
      ]
     },
     "execution_count": 36,
     "metadata": {},
     "output_type": "execute_result"
    },
    {
     "data": {
      "image/png": "[encoded data removed]",
      "text/plain": [
       "<Figure size 432x288 with 1 Axes>"
      ]
     },
     "metadata": {
      "needs_background": "light"
     },
     "output_type": "display_data"
    }
   ],
   "source": [
    "# creating a mask for ibeacon3010 values above -90 and ploting a bar graph against the locations of users\n",
    "mask10=beacon['b3010']>-90\n",
    "a=beacon.loc[mask10,'location'].value_counts()\n",
    "a1=a.plot(kind='bar')\n",
    "a1.grid()\n",
    "a1.set_title('strength of beacon at particular location')\n",
    "a1.set_xlabel('User location')\n",
    "a1.set_ylabel('frequency')"
   ]
  },
  {
   "cell_type": "code",
   "execution_count": 37,
   "metadata": {},
   "outputs": [
    {
     "data": {
      "text/plain": [
       "Text(0, 0.5, 'frequency')"
      ]
     },
     "execution_count": 37,
     "metadata": {},
     "output_type": "execute_result"
    },
    {
     "data": {
      "image/png": "[encoded data removed]",
      "text/plain": [
       "<Figure size 432x288 with 1 Axes>"
      ]
     },
     "metadata": {
      "needs_background": "light"
     },
     "output_type": "display_data"
    }
   ],
   "source": [
    "# creating a mask for ibeacon3011 values above -90 and ploting a bar graph against the locations of users\n",
    "mask11=beacon['b3011']>-90\n",
    "a=beacon.loc[mask11,'location'].value_counts()\n",
    "a1=a.plot(kind='bar')\n",
    "a1.grid()\n",
    "a1.set_title('strength of beacon at particular location')\n",
    "a1.set_xlabel('User location')\n",
    "a1.set_ylabel('frequency')"
   ]
  },
  {
   "cell_type": "code",
   "execution_count": 38,
   "metadata": {},
   "outputs": [
    {
     "data": {
      "text/plain": [
       "Text(0, 0.5, 'frequency')"
      ]
     },
     "execution_count": 38,
     "metadata": {},
     "output_type": "execute_result"
    },
    {
     "data": {
      "image/png": "[encoded data removed]",
      "text/plain": [
       "<Figure size 432x288 with 1 Axes>"
      ]
     },
     "metadata": {
      "needs_background": "light"
     },
     "output_type": "display_data"
    }
   ],
   "source": [
    "# creating a mask for ibeacon3012 values above -90 and ploting a bar graph against the locations of users\n",
    "mask12=beacon['b3012']>-90\n",
    "a=beacon.loc[mask12,'location'].value_counts()\n",
    "a1=a.plot(kind='bar')\n",
    "a1.grid()\n",
    "a1.set_title('strength of beacon at particular location')\n",
    "a1.set_xlabel('User location')\n",
    "a1.set_ylabel('frequency')"
   ]
  },
  {
   "cell_type": "code",
   "execution_count": 39,
   "metadata": {},
   "outputs": [
    {
     "data": {
      "text/plain": [
       "Text(0, 0.5, 'frequency')"
      ]
     },
     "execution_count": 39,
     "metadata": {},
     "output_type": "execute_result"
    },
    {
     "data": {
      "image/png": "[encoded data removed]",
      "text/plain": [
       "<Figure size 432x288 with 1 Axes>"
      ]
     },
     "metadata": {
      "needs_background": "light"
     },
     "output_type": "display_data"
    }
   ],
   "source": [
    "# creating a mask for ibeacon3013 values above -90 and ploting a bar graph against the locations of users\n",
    "mask13=beacon['b3013']>-90\n",
    "a=beacon.loc[mask13,'location'].value_counts()\n",
    "a1=a.plot(kind='bar')\n",
    "a1.grid()\n",
    "a1.set_title('strength of beacon at particular location')\n",
    "a1.set_xlabel('User location')\n",
    "a1.set_ylabel('frequency')"
   ]
  },
  {
   "cell_type": "code",
   "execution_count": 40,
   "metadata": {},
   "outputs": [
    {
     "data": {
      "text/html": [
       "<div>\n",
       "<style scoped>\n",
       "    .dataframe tbody tr th:only-of-type {\n",
       "        vertical-align: middle;\n",
       "    }\n",
       "\n",
       "    .dataframe tbody tr th {\n",
       "        vertical-align: top;\n",
       "    }\n",
       "\n",
       "    .dataframe thead th {\n",
       "        text-align: right;\n",
       "    }\n",
       "</style>\n",
       "<table border=\"1\" class=\"dataframe\">\n",
       "  <thead>\n",
       "    <tr style=\"text-align: right;\">\n",
       "      <th></th>\n",
       "      <th>b3001</th>\n",
       "      <th>b3002</th>\n",
       "      <th>b3003</th>\n",
       "      <th>b3004</th>\n",
       "      <th>b3005</th>\n",
       "      <th>b3006</th>\n",
       "      <th>b3007</th>\n",
       "      <th>b3008</th>\n",
       "      <th>b3009</th>\n",
       "      <th>b3010</th>\n",
       "      <th>b3011</th>\n",
       "      <th>b3012</th>\n",
       "      <th>b3013</th>\n",
       "    </tr>\n",
       "  </thead>\n",
       "  <tbody>\n",
       "    <tr>\n",
       "      <td>b3001</td>\n",
       "      <td>1.000000</td>\n",
       "      <td>-0.073123</td>\n",
       "      <td>-0.066219</td>\n",
       "      <td>-0.083980</td>\n",
       "      <td>0.103180</td>\n",
       "      <td>-0.043067</td>\n",
       "      <td>-0.025520</td>\n",
       "      <td>0.330190</td>\n",
       "      <td>-0.019943</td>\n",
       "      <td>-0.019296</td>\n",
       "      <td>-0.017881</td>\n",
       "      <td>-0.019969</td>\n",
       "      <td>-0.023878</td>\n",
       "    </tr>\n",
       "    <tr>\n",
       "      <td>b3002</td>\n",
       "      <td>-0.073123</td>\n",
       "      <td>1.000000</td>\n",
       "      <td>0.075160</td>\n",
       "      <td>-0.409673</td>\n",
       "      <td>0.054061</td>\n",
       "      <td>-0.210235</td>\n",
       "      <td>-0.115099</td>\n",
       "      <td>0.007335</td>\n",
       "      <td>-0.107406</td>\n",
       "      <td>-0.094341</td>\n",
       "      <td>-0.096299</td>\n",
       "      <td>-0.107542</td>\n",
       "      <td>-0.128599</td>\n",
       "    </tr>\n",
       "    <tr>\n",
       "      <td>b3003</td>\n",
       "      <td>-0.066219</td>\n",
       "      <td>0.075160</td>\n",
       "      <td>1.000000</td>\n",
       "      <td>-0.144218</td>\n",
       "      <td>-0.162481</td>\n",
       "      <td>0.135232</td>\n",
       "      <td>-0.047100</td>\n",
       "      <td>-0.123059</td>\n",
       "      <td>-0.073771</td>\n",
       "      <td>-0.071377</td>\n",
       "      <td>-0.066143</td>\n",
       "      <td>-0.073865</td>\n",
       "      <td>-0.088328</td>\n",
       "    </tr>\n",
       "    <tr>\n",
       "      <td>b3004</td>\n",
       "      <td>-0.083980</td>\n",
       "      <td>-0.409673</td>\n",
       "      <td>-0.144218</td>\n",
       "      <td>1.000000</td>\n",
       "      <td>-0.264527</td>\n",
       "      <td>-0.185911</td>\n",
       "      <td>0.070760</td>\n",
       "      <td>-0.158229</td>\n",
       "      <td>-0.093558</td>\n",
       "      <td>-0.090521</td>\n",
       "      <td>-0.083883</td>\n",
       "      <td>-0.093677</td>\n",
       "      <td>-0.112018</td>\n",
       "    </tr>\n",
       "    <tr>\n",
       "      <td>b3005</td>\n",
       "      <td>0.103180</td>\n",
       "      <td>0.054061</td>\n",
       "      <td>-0.162481</td>\n",
       "      <td>-0.264527</td>\n",
       "      <td>1.000000</td>\n",
       "      <td>0.010307</td>\n",
       "      <td>-0.068146</td>\n",
       "      <td>0.285083</td>\n",
       "      <td>-0.068340</td>\n",
       "      <td>-0.066122</td>\n",
       "      <td>-0.061273</td>\n",
       "      <td>-0.068427</td>\n",
       "      <td>-0.081825</td>\n",
       "    </tr>\n",
       "    <tr>\n",
       "      <td>b3006</td>\n",
       "      <td>-0.043067</td>\n",
       "      <td>-0.210235</td>\n",
       "      <td>0.135232</td>\n",
       "      <td>-0.185911</td>\n",
       "      <td>0.010307</td>\n",
       "      <td>1.000000</td>\n",
       "      <td>-0.074927</td>\n",
       "      <td>-0.068524</td>\n",
       "      <td>-0.074970</td>\n",
       "      <td>-0.049186</td>\n",
       "      <td>-0.067217</td>\n",
       "      <td>-0.075065</td>\n",
       "      <td>-0.089763</td>\n",
       "    </tr>\n",
       "    <tr>\n",
       "      <td>b3007</td>\n",
       "      <td>-0.025520</td>\n",
       "      <td>-0.115099</td>\n",
       "      <td>-0.047100</td>\n",
       "      <td>0.070760</td>\n",
       "      <td>-0.068146</td>\n",
       "      <td>-0.074927</td>\n",
       "      <td>1.000000</td>\n",
       "      <td>-0.049850</td>\n",
       "      <td>-0.028430</td>\n",
       "      <td>-0.027507</td>\n",
       "      <td>-0.025490</td>\n",
       "      <td>-0.028466</td>\n",
       "      <td>-0.034040</td>\n",
       "    </tr>\n",
       "    <tr>\n",
       "      <td>b3008</td>\n",
       "      <td>0.330190</td>\n",
       "      <td>0.007335</td>\n",
       "      <td>-0.123059</td>\n",
       "      <td>-0.158229</td>\n",
       "      <td>0.285083</td>\n",
       "      <td>-0.068524</td>\n",
       "      <td>-0.049850</td>\n",
       "      <td>1.000000</td>\n",
       "      <td>-0.038956</td>\n",
       "      <td>0.103724</td>\n",
       "      <td>-0.034928</td>\n",
       "      <td>0.001415</td>\n",
       "      <td>-0.046643</td>\n",
       "    </tr>\n",
       "    <tr>\n",
       "      <td>b3009</td>\n",
       "      <td>-0.019943</td>\n",
       "      <td>-0.107406</td>\n",
       "      <td>-0.073771</td>\n",
       "      <td>-0.093558</td>\n",
       "      <td>-0.068340</td>\n",
       "      <td>-0.074970</td>\n",
       "      <td>-0.028430</td>\n",
       "      <td>-0.038956</td>\n",
       "      <td>1.000000</td>\n",
       "      <td>0.073096</td>\n",
       "      <td>-0.019920</td>\n",
       "      <td>-0.022246</td>\n",
       "      <td>-0.026601</td>\n",
       "    </tr>\n",
       "    <tr>\n",
       "      <td>b3010</td>\n",
       "      <td>-0.019296</td>\n",
       "      <td>-0.094341</td>\n",
       "      <td>-0.071377</td>\n",
       "      <td>-0.090521</td>\n",
       "      <td>-0.066122</td>\n",
       "      <td>-0.049186</td>\n",
       "      <td>-0.027507</td>\n",
       "      <td>0.103724</td>\n",
       "      <td>0.073096</td>\n",
       "      <td>1.000000</td>\n",
       "      <td>0.254659</td>\n",
       "      <td>0.040681</td>\n",
       "      <td>0.026559</td>\n",
       "    </tr>\n",
       "    <tr>\n",
       "      <td>b3011</td>\n",
       "      <td>-0.017881</td>\n",
       "      <td>-0.096299</td>\n",
       "      <td>-0.066143</td>\n",
       "      <td>-0.083883</td>\n",
       "      <td>-0.061273</td>\n",
       "      <td>-0.067217</td>\n",
       "      <td>-0.025490</td>\n",
       "      <td>-0.034928</td>\n",
       "      <td>-0.019920</td>\n",
       "      <td>0.254659</td>\n",
       "      <td>1.000000</td>\n",
       "      <td>0.247945</td>\n",
       "      <td>0.003452</td>\n",
       "    </tr>\n",
       "    <tr>\n",
       "      <td>b3012</td>\n",
       "      <td>-0.019969</td>\n",
       "      <td>-0.107542</td>\n",
       "      <td>-0.073865</td>\n",
       "      <td>-0.093677</td>\n",
       "      <td>-0.068427</td>\n",
       "      <td>-0.075065</td>\n",
       "      <td>-0.028466</td>\n",
       "      <td>0.001415</td>\n",
       "      <td>-0.022246</td>\n",
       "      <td>0.040681</td>\n",
       "      <td>0.247945</td>\n",
       "      <td>1.000000</td>\n",
       "      <td>0.127178</td>\n",
       "    </tr>\n",
       "    <tr>\n",
       "      <td>b3013</td>\n",
       "      <td>-0.023878</td>\n",
       "      <td>-0.128599</td>\n",
       "      <td>-0.088328</td>\n",
       "      <td>-0.112018</td>\n",
       "      <td>-0.081825</td>\n",
       "      <td>-0.089763</td>\n",
       "      <td>-0.034040</td>\n",
       "      <td>-0.046643</td>\n",
       "      <td>-0.026601</td>\n",
       "      <td>0.026559</td>\n",
       "      <td>0.003452</td>\n",
       "      <td>0.127178</td>\n",
       "      <td>1.000000</td>\n",
       "    </tr>\n",
       "  </tbody>\n",
       "</table>\n",
       "</div>"
      ],
      "text/plain": [
       "          b3001     b3002     b3003     b3004     b3005     b3006     b3007  \\\n",
       "b3001  1.000000 -0.073123 -0.066219 -0.083980  0.103180 -0.043067 -0.025520   \n",
       "b3002 -0.073123  1.000000  0.075160 -0.409673  0.054061 -0.210235 -0.115099   \n",
       "b3003 -0.066219  0.075160  1.000000 -0.144218 -0.162481  0.135232 -0.047100   \n",
       "b3004 -0.083980 -0.409673 -0.144218  1.000000 -0.264527 -0.185911  0.070760   \n",
       "b3005  0.103180  0.054061 -0.162481 -0.264527  1.000000  0.010307 -0.068146   \n",
       "b3006 -0.043067 -0.210235  0.135232 -0.185911  0.010307  1.000000 -0.074927   \n",
       "b3007 -0.025520 -0.115099 -0.047100  0.070760 -0.068146 -0.074927  1.000000   \n",
       "b3008  0.330190  0.007335 -0.123059 -0.158229  0.285083 -0.068524 -0.049850   \n",
       "b3009 -0.019943 -0.107406 -0.073771 -0.093558 -0.068340 -0.074970 -0.028430   \n",
       "b3010 -0.019296 -0.094341 -0.071377 -0.090521 -0.066122 -0.049186 -0.027507   \n",
       "b3011 -0.017881 -0.096299 -0.066143 -0.083883 -0.061273 -0.067217 -0.025490   \n",
       "b3012 -0.019969 -0.107542 -0.073865 -0.093677 -0.068427 -0.075065 -0.028466   \n",
       "b3013 -0.023878 -0.128599 -0.088328 -0.112018 -0.081825 -0.089763 -0.034040   \n",
       "\n",
       "          b3008     b3009     b3010     b3011     b3012     b3013  \n",
       "b3001  0.330190 -0.019943 -0.019296 -0.017881 -0.019969 -0.023878  \n",
       "b3002  0.007335 -0.107406 -0.094341 -0.096299 -0.107542 -0.128599  \n",
       "b3003 -0.123059 -0.073771 -0.071377 -0.066143 -0.073865 -0.088328  \n",
       "b3004 -0.158229 -0.093558 -0.090521 -0.083883 -0.093677 -0.112018  \n",
       "b3005  0.285083 -0.068340 -0.066122 -0.061273 -0.068427 -0.081825  \n",
       "b3006 -0.068524 -0.074970 -0.049186 -0.067217 -0.075065 -0.089763  \n",
       "b3007 -0.049850 -0.028430 -0.027507 -0.025490 -0.028466 -0.034040  \n",
       "b3008  1.000000 -0.038956  0.103724 -0.034928  0.001415 -0.046643  \n",
       "b3009 -0.038956  1.000000  0.073096 -0.019920 -0.022246 -0.026601  \n",
       "b3010  0.103724  0.073096  1.000000  0.254659  0.040681  0.026559  \n",
       "b3011 -0.034928 -0.019920  0.254659  1.000000  0.247945  0.003452  \n",
       "b3012  0.001415 -0.022246  0.040681  0.247945  1.000000  0.127178  \n",
       "b3013 -0.046643 -0.026601  0.026559  0.003452  0.127178  1.000000  "
      ]
     },
     "execution_count": 40,
     "metadata": {},
     "output_type": "execute_result"
    }
   ],
   "source": [
    "# checking how every beacon is correlated with one another using 'corr' function\n",
    "values=beacon.iloc[:,2:]\n",
    "a=values.corr()\n",
    "a"
   ]
  },
  {
   "cell_type": "code",
   "execution_count": 41,
   "metadata": {},
   "outputs": [
    {
     "data": {
      "text/plain": [
       "Text(0, 0.5, 'Correlation coefficient')"
      ]
     },
     "execution_count": 41,
     "metadata": {},
     "output_type": "execute_result"
    },
    {
     "data": {
      "image/png": "[encoded data removed]",
      "text/plain": [
       "<Figure size 432x288 with 1 Axes>"
      ]
     },
     "metadata": {
      "needs_background": "light"
     },
     "output_type": "display_data"
    }
   ],
   "source": [
    "#plotting correlation coefficients vs ibeacons\n",
    "\n",
    "fig=a.plot()\n",
    "fig.set_title('Correlation between beacons')\n",
    "fig.set_xlabel('Beacon')\n",
    "fig.set_ylabel('Correlation coefficient')"
   ]
  },
  {
   "cell_type": "code",
   "execution_count": 42,
   "metadata": {},
   "outputs": [
    {
     "name": "stderr",
     "output_type": "stream",
     "text": [
      "E:\\RMIT\\PYTHON\\software\\lib\\site-packages\\sklearn\\ensemble\\forest.py:245: FutureWarning: The default value of n_estimators will change from 10 in version 0.20 to 100 in 0.22.\n",
      "  \"10 in version 0.20 to 100 in 0.22.\", FutureWarning)\n"
     ]
    },
    {
     "name": "stdout",
     "output_type": "stream",
     "text": [
      "[0.01967694 0.17375411 0.1410264  0.13057011 0.15473073 0.13328797\n",
      " 0.03967027 0.05792413 0.03045458 0.02412015 0.02256729 0.02930808\n",
      " 0.04290923]\n"
     ]
    },
    {
     "data": {
      "image/png": "[encoded data removed]",
      "text/plain": [
       "<Figure size 432x288 with 1 Axes>"
      ]
     },
     "metadata": {
      "needs_background": "light"
     },
     "output_type": "display_data"
    }
   ],
   "source": [
    "# calculating score of input features to see importance while making predictions using ExtraTreesClassifier() method\n",
    "# X stores ibeacon readings, y contains location column\n",
    "\n",
    "X = beacon.iloc[:,2:15]\n",
    "y = beacon.iloc[:,0]\n",
    "\n",
    "from sklearn.ensemble import ExtraTreesClassifier\n",
    "\n",
    "model = ExtraTreesClassifier()\n",
    "model.fit(X,y)\n",
    "\n",
    "print(model.feature_importances_)\n",
    "\n",
    "# plotting graph of feature importances\n",
    "feat_importances = pd.Series(model.feature_importances_, index=X.columns)\n",
    "feat_importances.nlargest(10).plot(kind='barh')\n",
    "plt.show()"
   ]
  },
  {
   "cell_type": "code",
   "execution_count": 43,
   "metadata": {},
   "outputs": [],
   "source": [
    "#storing important features in x variablea and location(target variable) in y\n",
    "\n",
    "x=beacon.iloc[:,3:8]\n",
    "y=beacon.iloc[:,0]"
   ]
  },
  {
   "cell_type": "code",
   "execution_count": 44,
   "metadata": {},
   "outputs": [],
   "source": [
    "#importing train_test_split package and  splitting data into test and training\n",
    "\n",
    "from sklearn. model_selection import train_test_split\n",
    "X_train, X_test, y_train, y_test = train_test_split(x,y,test_size=0.18,random_state=6296)"
   ]
  },
  {
   "cell_type": "code",
   "execution_count": 45,
   "metadata": {},
   "outputs": [
    {
     "data": {
      "text/html": [
       "<div>\n",
       "<style scoped>\n",
       "    .dataframe tbody tr th:only-of-type {\n",
       "        vertical-align: middle;\n",
       "    }\n",
       "\n",
       "    .dataframe tbody tr th {\n",
       "        vertical-align: top;\n",
       "    }\n",
       "\n",
       "    .dataframe thead th {\n",
       "        text-align: right;\n",
       "    }\n",
       "</style>\n",
       "<table border=\"1\" class=\"dataframe\">\n",
       "  <thead>\n",
       "    <tr style=\"text-align: right;\">\n",
       "      <th></th>\n",
       "      <th>b3002</th>\n",
       "      <th>b3003</th>\n",
       "      <th>b3004</th>\n",
       "      <th>b3005</th>\n",
       "      <th>b3006</th>\n",
       "    </tr>\n",
       "  </thead>\n",
       "  <tbody>\n",
       "    <tr>\n",
       "      <td>469</td>\n",
       "      <td>-67</td>\n",
       "      <td>-200</td>\n",
       "      <td>-200</td>\n",
       "      <td>-200</td>\n",
       "      <td>-200</td>\n",
       "    </tr>\n",
       "    <tr>\n",
       "      <td>993</td>\n",
       "      <td>-200</td>\n",
       "      <td>-200</td>\n",
       "      <td>-78</td>\n",
       "      <td>-200</td>\n",
       "      <td>-200</td>\n",
       "    </tr>\n",
       "    <tr>\n",
       "      <td>558</td>\n",
       "      <td>-71</td>\n",
       "      <td>-200</td>\n",
       "      <td>-200</td>\n",
       "      <td>-200</td>\n",
       "      <td>-200</td>\n",
       "    </tr>\n",
       "    <tr>\n",
       "      <td>240</td>\n",
       "      <td>-200</td>\n",
       "      <td>-200</td>\n",
       "      <td>-79</td>\n",
       "      <td>-200</td>\n",
       "      <td>-77</td>\n",
       "    </tr>\n",
       "    <tr>\n",
       "      <td>706</td>\n",
       "      <td>-200</td>\n",
       "      <td>-200</td>\n",
       "      <td>-200</td>\n",
       "      <td>-200</td>\n",
       "      <td>-83</td>\n",
       "    </tr>\n",
       "    <tr>\n",
       "      <td>...</td>\n",
       "      <td>...</td>\n",
       "      <td>...</td>\n",
       "      <td>...</td>\n",
       "      <td>...</td>\n",
       "      <td>...</td>\n",
       "    </tr>\n",
       "    <tr>\n",
       "      <td>287</td>\n",
       "      <td>-200</td>\n",
       "      <td>-200</td>\n",
       "      <td>-77</td>\n",
       "      <td>-200</td>\n",
       "      <td>-200</td>\n",
       "    </tr>\n",
       "    <tr>\n",
       "      <td>378</td>\n",
       "      <td>-200</td>\n",
       "      <td>-200</td>\n",
       "      <td>-200</td>\n",
       "      <td>-200</td>\n",
       "      <td>-200</td>\n",
       "    </tr>\n",
       "    <tr>\n",
       "      <td>847</td>\n",
       "      <td>-73</td>\n",
       "      <td>-200</td>\n",
       "      <td>-200</td>\n",
       "      <td>-75</td>\n",
       "      <td>-200</td>\n",
       "    </tr>\n",
       "    <tr>\n",
       "      <td>118</td>\n",
       "      <td>-200</td>\n",
       "      <td>-200</td>\n",
       "      <td>-67</td>\n",
       "      <td>-200</td>\n",
       "      <td>-200</td>\n",
       "    </tr>\n",
       "    <tr>\n",
       "      <td>1314</td>\n",
       "      <td>-200</td>\n",
       "      <td>-200</td>\n",
       "      <td>-74</td>\n",
       "      <td>-200</td>\n",
       "      <td>-200</td>\n",
       "    </tr>\n",
       "  </tbody>\n",
       "</table>\n",
       "<p>1164 rows × 5 columns</p>\n",
       "</div>"
      ],
      "text/plain": [
       "      b3002  b3003  b3004  b3005  b3006\n",
       "469     -67   -200   -200   -200   -200\n",
       "993    -200   -200    -78   -200   -200\n",
       "558     -71   -200   -200   -200   -200\n",
       "240    -200   -200    -79   -200    -77\n",
       "706    -200   -200   -200   -200    -83\n",
       "...     ...    ...    ...    ...    ...\n",
       "287    -200   -200    -77   -200   -200\n",
       "378    -200   -200   -200   -200   -200\n",
       "847     -73   -200   -200    -75   -200\n",
       "118    -200   -200    -67   -200   -200\n",
       "1314   -200   -200    -74   -200   -200\n",
       "\n",
       "[1164 rows x 5 columns]"
      ]
     },
     "execution_count": 45,
     "metadata": {},
     "output_type": "execute_result"
    }
   ],
   "source": [
    "#display X_train\n",
    "X_train"
   ]
  },
  {
   "cell_type": "code",
   "execution_count": 46,
   "metadata": {},
   "outputs": [
    {
     "data": {
      "text/plain": [
       "(1164, 5)"
      ]
     },
     "execution_count": 46,
     "metadata": {},
     "output_type": "execute_result"
    }
   ],
   "source": [
    "# checking dimensioncof X_train\n",
    "X_train.shape"
   ]
  },
  {
   "cell_type": "code",
   "execution_count": 47,
   "metadata": {},
   "outputs": [
    {
     "data": {
      "text/html": [
       "<div>\n",
       "<style scoped>\n",
       "    .dataframe tbody tr th:only-of-type {\n",
       "        vertical-align: middle;\n",
       "    }\n",
       "\n",
       "    .dataframe tbody tr th {\n",
       "        vertical-align: top;\n",
       "    }\n",
       "\n",
       "    .dataframe thead th {\n",
       "        text-align: right;\n",
       "    }\n",
       "</style>\n",
       "<table border=\"1\" class=\"dataframe\">\n",
       "  <thead>\n",
       "    <tr style=\"text-align: right;\">\n",
       "      <th></th>\n",
       "      <th>b3002</th>\n",
       "      <th>b3003</th>\n",
       "      <th>b3004</th>\n",
       "      <th>b3005</th>\n",
       "      <th>b3006</th>\n",
       "    </tr>\n",
       "  </thead>\n",
       "  <tbody>\n",
       "    <tr>\n",
       "      <td>97</td>\n",
       "      <td>-200</td>\n",
       "      <td>-200</td>\n",
       "      <td>-76</td>\n",
       "      <td>-200</td>\n",
       "      <td>-200</td>\n",
       "    </tr>\n",
       "    <tr>\n",
       "      <td>510</td>\n",
       "      <td>-74</td>\n",
       "      <td>-200</td>\n",
       "      <td>-200</td>\n",
       "      <td>-72</td>\n",
       "      <td>-200</td>\n",
       "    </tr>\n",
       "    <tr>\n",
       "      <td>988</td>\n",
       "      <td>-200</td>\n",
       "      <td>-200</td>\n",
       "      <td>-200</td>\n",
       "      <td>-200</td>\n",
       "      <td>-200</td>\n",
       "    </tr>\n",
       "    <tr>\n",
       "      <td>220</td>\n",
       "      <td>-69</td>\n",
       "      <td>-200</td>\n",
       "      <td>-200</td>\n",
       "      <td>-200</td>\n",
       "      <td>-200</td>\n",
       "    </tr>\n",
       "    <tr>\n",
       "      <td>1011</td>\n",
       "      <td>-200</td>\n",
       "      <td>-200</td>\n",
       "      <td>-71</td>\n",
       "      <td>-200</td>\n",
       "      <td>-200</td>\n",
       "    </tr>\n",
       "    <tr>\n",
       "      <td>...</td>\n",
       "      <td>...</td>\n",
       "      <td>...</td>\n",
       "      <td>...</td>\n",
       "      <td>...</td>\n",
       "      <td>...</td>\n",
       "    </tr>\n",
       "    <tr>\n",
       "      <td>1141</td>\n",
       "      <td>-200</td>\n",
       "      <td>-74</td>\n",
       "      <td>-200</td>\n",
       "      <td>-200</td>\n",
       "      <td>-200</td>\n",
       "    </tr>\n",
       "    <tr>\n",
       "      <td>743</td>\n",
       "      <td>-200</td>\n",
       "      <td>-81</td>\n",
       "      <td>-200</td>\n",
       "      <td>-200</td>\n",
       "      <td>-200</td>\n",
       "    </tr>\n",
       "    <tr>\n",
       "      <td>1341</td>\n",
       "      <td>-200</td>\n",
       "      <td>-200</td>\n",
       "      <td>-71</td>\n",
       "      <td>-200</td>\n",
       "      <td>-200</td>\n",
       "    </tr>\n",
       "    <tr>\n",
       "      <td>804</td>\n",
       "      <td>-200</td>\n",
       "      <td>-200</td>\n",
       "      <td>-200</td>\n",
       "      <td>-73</td>\n",
       "      <td>-84</td>\n",
       "    </tr>\n",
       "    <tr>\n",
       "      <td>517</td>\n",
       "      <td>-200</td>\n",
       "      <td>-200</td>\n",
       "      <td>-200</td>\n",
       "      <td>-200</td>\n",
       "      <td>-77</td>\n",
       "    </tr>\n",
       "  </tbody>\n",
       "</table>\n",
       "<p>256 rows × 5 columns</p>\n",
       "</div>"
      ],
      "text/plain": [
       "      b3002  b3003  b3004  b3005  b3006\n",
       "97     -200   -200    -76   -200   -200\n",
       "510     -74   -200   -200    -72   -200\n",
       "988    -200   -200   -200   -200   -200\n",
       "220     -69   -200   -200   -200   -200\n",
       "1011   -200   -200    -71   -200   -200\n",
       "...     ...    ...    ...    ...    ...\n",
       "1141   -200    -74   -200   -200   -200\n",
       "743    -200    -81   -200   -200   -200\n",
       "1341   -200   -200    -71   -200   -200\n",
       "804    -200   -200   -200    -73    -84\n",
       "517    -200   -200   -200   -200    -77\n",
       "\n",
       "[256 rows x 5 columns]"
      ]
     },
     "execution_count": 47,
     "metadata": {},
     "output_type": "execute_result"
    }
   ],
   "source": [
    "# display X_test\n",
    "X_test"
   ]
  },
  {
   "cell_type": "code",
   "execution_count": 48,
   "metadata": {},
   "outputs": [
    {
     "data": {
      "text/plain": [
       "(256, 5)"
      ]
     },
     "execution_count": 48,
     "metadata": {},
     "output_type": "execute_result"
    }
   ],
   "source": [
    "#checking dimension of X_test\n",
    "X_test.shape"
   ]
  },
  {
   "cell_type": "code",
   "execution_count": 49,
   "metadata": {},
   "outputs": [
    {
     "data": {
      "text/plain": [
       "469     J02\n",
       "993     S06\n",
       "558     J04\n",
       "240     O05\n",
       "706     L02\n",
       "       ... \n",
       "287     U05\n",
       "378     J10\n",
       "847     I06\n",
       "118     T04\n",
       "1314    S01\n",
       "Name: location, Length: 1164, dtype: object"
      ]
     },
     "execution_count": 49,
     "metadata": {},
     "output_type": "execute_result"
    }
   ],
   "source": [
    "# display y_train\n",
    "y_train"
   ]
  },
  {
   "cell_type": "code",
   "execution_count": 50,
   "metadata": {},
   "outputs": [
    {
     "data": {
      "text/plain": [
       "(1164,)"
      ]
     },
     "execution_count": 50,
     "metadata": {},
     "output_type": "execute_result"
    }
   ],
   "source": [
    "# checking dimension of y_train\n",
    "y_train.shape"
   ]
  },
  {
   "cell_type": "code",
   "execution_count": 51,
   "metadata": {},
   "outputs": [
    {
     "data": {
      "text/plain": [
       "97      R03\n",
       "510     I07\n",
       "988     R06\n",
       "220     K05\n",
       "1011    R05\n",
       "       ... \n",
       "1141    O04\n",
       "743     K03\n",
       "1341    Q02\n",
       "804     I08\n",
       "517     I08\n",
       "Name: location, Length: 256, dtype: object"
      ]
     },
     "execution_count": 51,
     "metadata": {},
     "output_type": "execute_result"
    }
   ],
   "source": [
    "# display y_test\n",
    "y_test"
   ]
  },
  {
   "cell_type": "code",
   "execution_count": 52,
   "metadata": {},
   "outputs": [
    {
     "data": {
      "text/plain": [
       "(256,)"
      ]
     },
     "execution_count": 52,
     "metadata": {},
     "output_type": "execute_result"
    }
   ],
   "source": [
    "# checking dimension of y_test\n",
    "y_test.shape"
   ]
  },
  {
   "cell_type": "code",
   "execution_count": 53,
   "metadata": {},
   "outputs": [],
   "source": [
    "#applying decision tree model with gini index parameter and sample splits to be 50 and then fitting in the model\n",
    "\n",
    "from sklearn.tree import DecisionTreeClassifier\n",
    "clf = DecisionTreeClassifier(criterion=\"gini\",max_depth=35,min_samples_split=50)\n",
    "fit = clf.fit(X_train, y_train)"
   ]
  },
  {
   "cell_type": "code",
   "execution_count": 54,
   "metadata": {},
   "outputs": [
    {
     "data": {
      "text/plain": [
       "array(['Q03', 'J06', 'W15', 'I01', 'O05', 'W15', 'W15', 'K04', 'J07',\n",
       "       'L06', 'L06', 'Q03', 'J02', 'P03', 'Q03', 'T04', 'L06', 'O04',\n",
       "       'T04', 'P03', 'W15', 'J03', 'S01', 'J06', 'J02', 'L02', 'S01',\n",
       "       'J07', 'J06', 'K07', 'O05', 'I01', 'Q03', 'L06', 'K03', 'M01',\n",
       "       'M06', 'T04', 'S01', 'F08', 'O05', 'S01', 'J02', 'J02', 'J02',\n",
       "       'J06', 'S02', 'J02', 'Q03', 'W15', 'W15', 'J06', 'N02', 'Q03',\n",
       "       'J07', 'J02', 'O06', 'I01', 'N02', 'W15', 'I04', 'M01', 'L06',\n",
       "       'S01', 'W15', 'J03', 'L06', 'I06', 'L03', 'W15', 'P01', 'M02',\n",
       "       'W15', 'O04', 'J07', 'J07', 'O06', 'Q03', 'J07', 'M01', 'J02',\n",
       "       'W15', 'O05', 'L03', 'T04', 'Q03', 'S04', 'I04', 'S02', 'O05',\n",
       "       'O05', 'P01', 'I01', 'W15', 'T04', 'L03', 'J04', 'W15', 'S04',\n",
       "       'P01', 'L02', 'W15', 'K03', 'J06', 'S04', 'W15', 'S01', 'J07',\n",
       "       'S01', 'P01', 'K04', 'I06', 'Q03', 'J04', 'S04', 'W15', 'I04',\n",
       "       'T04', 'J02', 'S01', 'I04', 'S02', 'Q03', 'I06', 'P03', 'K04',\n",
       "       'M02', 'S01', 'J07', 'L06', 'I04', 'W15', 'N06', 'O05', 'I04',\n",
       "       'W15', 'K03', 'J07', 'L02', 'L06', 'T04', 'W15', 'O05', 'L03',\n",
       "       'S01', 'J07', 'O04', 'F08', 'W15', 'F08', 'O05', 'J04', 'W15',\n",
       "       'M01', 'S04', 'J06', 'J04', 'P03', 'J02', 'N02', 'W15', 'S02',\n",
       "       'J02', 'W15', 'K04', 'Q03', 'Q03', 'N02', 'L02', 'I01', 'I01',\n",
       "       'W15', 'W15', 'W15', 'T04', 'S01', 'P01', 'W15', 'L02', 'J06',\n",
       "       'J02', 'J02', 'K03', 'W15', 'N02', 'Q03', 'M01', 'O05', 'J04',\n",
       "       'Q03', 'I01', 'L02', 'J02', 'W15', 'J07', 'Q03', 'O05', 'W15',\n",
       "       'N02', 'K03', 'K04', 'S05', 'J02', 'M01', 'K03', 'S02', 'I06',\n",
       "       'K05', 'J06', 'L02', 'N02', 'K04', 'J07', 'W15', 'O05', 'S02',\n",
       "       'J02', 'W15', 'O04', 'S02', 'J06', 'S02', 'O04', 'W15', 'J07',\n",
       "       'S02', 'O06', 'J04', 'N02', 'J04', 'S01', 'L06', 'S02', 'P01',\n",
       "       'L02', 'W15', 'S01', 'S02', 'K04', 'O04', 'S02', 'N06', 'L02',\n",
       "       'P03', 'P03', 'L03', 'M01', 'J06', 'J07', 'O04', 'K04', 'O04',\n",
       "       'M01', 'O05', 'J07', 'P01'], dtype=object)"
      ]
     },
     "execution_count": 54,
     "metadata": {},
     "output_type": "execute_result"
    }
   ],
   "source": [
    "#predicting the testing dataset\n",
    "\n",
    "y_pre = fit.predict(X_test)\n",
    "y_pre"
   ]
  },
  {
   "cell_type": "code",
   "execution_count": 55,
   "metadata": {},
   "outputs": [
    {
     "data": {
      "text/plain": [
       "(256,)"
      ]
     },
     "execution_count": 55,
     "metadata": {},
     "output_type": "execute_result"
    }
   ],
   "source": [
    "#checking dimension of predicted\n",
    "y_pre.shape"
   ]
  },
  {
   "cell_type": "code",
   "execution_count": 56,
   "metadata": {},
   "outputs": [
    {
     "data": {
      "text/plain": [
       "array([[0, 0, 0, ..., 0, 0, 2],\n",
       "       [0, 0, 0, ..., 0, 0, 2],\n",
       "       [0, 0, 0, ..., 0, 0, 1],\n",
       "       ...,\n",
       "       [0, 0, 0, ..., 0, 0, 0],\n",
       "       [0, 0, 0, ..., 0, 0, 1],\n",
       "       [0, 0, 0, ..., 0, 0, 3]], dtype=int64)"
      ]
     },
     "execution_count": 56,
     "metadata": {},
     "output_type": "execute_result"
    }
   ],
   "source": [
    "# importing confusion matrix package to see performance of our model\n",
    "\n",
    "from sklearn.metrics import confusion_matrix\n",
    "cm = confusion_matrix(y_test, y_pre)\n",
    "cm"
   ]
  },
  {
   "cell_type": "code",
   "execution_count": 57,
   "metadata": {},
   "outputs": [
    {
     "name": "stdout",
     "output_type": "stream",
     "text": [
      "              precision    recall  f1-score   support\n",
      "\n",
      "         D13       0.00      0.00      0.00         2\n",
      "         D15       0.00      0.00      0.00         2\n",
      "         E15       0.00      0.00      0.00         1\n",
      "         F08       0.00      0.00      0.00         1\n",
      "         G15       0.00      0.00      0.00         1\n",
      "         I01       0.29      0.29      0.29         7\n",
      "         I02       0.00      0.00      0.00         1\n",
      "         I03       0.00      0.00      0.00         5\n",
      "         I04       0.00      0.00      0.00         2\n",
      "         I05       0.00      0.00      0.00         2\n",
      "         I06       0.00      0.00      0.00         5\n",
      "         I07       0.00      0.00      0.00         4\n",
      "         I08       0.00      0.00      0.00         7\n",
      "         I09       0.00      0.00      0.00         1\n",
      "         I10       0.00      0.00      0.00         4\n",
      "         I15       0.00      0.00      0.00         2\n",
      "         J01       0.00      0.00      0.00         2\n",
      "         J02       0.00      0.00      0.00         1\n",
      "         J03       0.00      0.00      0.00         3\n",
      "         J04       0.29      0.67      0.40         3\n",
      "         J05       0.00      0.00      0.00         3\n",
      "         J06       0.09      0.20      0.13         5\n",
      "         J07       0.27      0.67      0.38         6\n",
      "         J08       0.00      0.00      0.00         5\n",
      "         J15       0.00      0.00      0.00         1\n",
      "         K01       0.00      0.00      0.00         1\n",
      "         K02       0.00      0.00      0.00         3\n",
      "         K03       0.17      0.25      0.20         4\n",
      "         K04       0.25      0.50      0.33         4\n",
      "         K05       1.00      0.20      0.33         5\n",
      "         K06       0.00      0.00      0.00         5\n",
      "         K07       0.00      0.00      0.00         1\n",
      "         L02       0.11      0.50      0.18         2\n",
      "         L03       0.00      0.00      0.00         2\n",
      "         L04       0.00      0.00      0.00         6\n",
      "         L05       0.00      0.00      0.00         1\n",
      "         L06       0.00      0.00      0.00         4\n",
      "         L08       0.00      0.00      0.00         1\n",
      "         L15       0.00      0.00      0.00         3\n",
      "         M01       0.12      0.50      0.20         2\n",
      "         M02       0.50      0.33      0.40         3\n",
      "         M03       0.00      0.00      0.00         3\n",
      "         M04       0.00      0.00      0.00         6\n",
      "         M05       0.00      0.00      0.00         1\n",
      "         M06       1.00      0.20      0.33         5\n",
      "         N01       0.00      0.00      0.00         2\n",
      "         N02       0.00      0.00      0.00         0\n",
      "         N03       0.00      0.00      0.00         2\n",
      "         N05       0.00      0.00      0.00         2\n",
      "         N06       0.50      0.50      0.50         2\n",
      "         N15       0.00      0.00      0.00         2\n",
      "         O02       0.00      0.00      0.00         2\n",
      "         O03       0.00      0.00      0.00         2\n",
      "         O04       0.62      1.00      0.77         5\n",
      "         O05       0.15      0.50      0.24         4\n",
      "         O06       0.33      0.33      0.33         3\n",
      "         P01       0.29      1.00      0.44         2\n",
      "         P03       0.33      0.50      0.40         4\n",
      "         P04       0.00      0.00      0.00         4\n",
      "         P05       0.00      0.00      0.00         1\n",
      "         P06       0.00      0.00      0.00         1\n",
      "         P15       0.00      0.00      0.00         1\n",
      "         Q02       0.00      0.00      0.00         2\n",
      "         Q03       0.13      1.00      0.24         2\n",
      "         Q04       0.00      0.00      0.00         4\n",
      "         Q05       0.00      0.00      0.00         4\n",
      "         Q06       0.00      0.00      0.00         1\n",
      "         R01       0.00      0.00      0.00         3\n",
      "         R02       0.00      0.00      0.00         3\n",
      "         R03       0.00      0.00      0.00         4\n",
      "         R04       0.00      0.00      0.00         2\n",
      "         R05       0.00      0.00      0.00         2\n",
      "         R06       0.00      0.00      0.00         2\n",
      "         S01       0.00      0.00      0.00         5\n",
      "         S02       0.00      0.00      0.00         4\n",
      "         S03       0.00      0.00      0.00         3\n",
      "         S04       0.80      0.80      0.80         5\n",
      "         S05       0.00      0.00      0.00         1\n",
      "         S06       0.00      0.00      0.00         2\n",
      "         S07       0.00      0.00      0.00         3\n",
      "         S15       0.00      0.00      0.00         2\n",
      "         T03       0.00      0.00      0.00         2\n",
      "         T04       0.25      1.00      0.40         2\n",
      "         T05       0.00      0.00      0.00         1\n",
      "         T15       0.00      0.00      0.00         2\n",
      "         U01       0.00      0.00      0.00         5\n",
      "         U02       0.00      0.00      0.00         1\n",
      "         U03       0.00      0.00      0.00         4\n",
      "         U04       0.00      0.00      0.00         2\n",
      "         U05       0.00      0.00      0.00         2\n",
      "         U15       0.00      0.00      0.00         1\n",
      "         W15       0.09      1.00      0.16         3\n",
      "\n",
      "    accuracy                           0.16       256\n",
      "   macro avg       0.08      0.13      0.08       256\n",
      "weighted avg       0.12      0.16      0.11       256\n",
      "\n"
     ]
    },
    {
     "name": "stderr",
     "output_type": "stream",
     "text": [
      "E:\\RMIT\\PYTHON\\software\\lib\\site-packages\\sklearn\\metrics\\classification.py:1437: UndefinedMetricWarning: Precision and F-score are ill-defined and being set to 0.0 in labels with no predicted samples.\n",
      "  'precision', 'predicted', average, warn_for)\n",
      "E:\\RMIT\\PYTHON\\software\\lib\\site-packages\\sklearn\\metrics\\classification.py:1439: UndefinedMetricWarning: Recall and F-score are ill-defined and being set to 0.0 in labels with no true samples.\n",
      "  'recall', 'true', average, warn_for)\n"
     ]
    }
   ],
   "source": [
    "# printing report giving details\n",
    "\n",
    "from sklearn.metrics import classification_report\n",
    "print(classification_report(y_test,y_pre))\n"
   ]
  },
  {
   "cell_type": "code",
   "execution_count": 58,
   "metadata": {},
   "outputs": [
    {
     "name": "stdout",
     "output_type": "stream",
     "text": [
      "Accuracy Score: 0.16015625\n"
     ]
    }
   ],
   "source": [
    "#checking accuracy of predicted values\n",
    "from sklearn import metrics \n",
    "print('Accuracy Score:', metrics.accuracy_score(y_test,y_pre))\n"
   ]
  },
  {
   "cell_type": "code",
   "execution_count": 59,
   "metadata": {},
   "outputs": [],
   "source": [
    "# droping certain features and storing in a variable\n",
    "features_names=beacon.columns.drop(['location','date','b3001','b3007','b3008','b3009','b3010','b3011','b3012','b3013'])"
   ]
  },
  {
   "cell_type": "code",
   "execution_count": 60,
   "metadata": {},
   "outputs": [],
   "source": [
    "#plotting decision tree for visualisation \n",
    "from sklearn import tree\n",
    "with open('beacon.dot', 'w') as f:\n",
    "    f = tree.export_graphviz(clf, out_file=f,\n",
    "feature_names=features_names,filled=True, rounded=True,\n",
    "special_characters=True)"
   ]
  },
  {
   "cell_type": "code",
   "execution_count": 61,
   "metadata": {},
   "outputs": [],
   "source": [
    "######## k fold cross validation"
   ]
  },
  {
   "cell_type": "code",
   "execution_count": 62,
   "metadata": {},
   "outputs": [],
   "source": [
    "# importing packages\n",
    "from sklearn.model_selection import KFold\n",
    "from sklearn.model_selection import cross_val_predict\n",
    "from sklearn.model_selection import cross_val_score\n"
   ]
  },
  {
   "cell_type": "code",
   "execution_count": 63,
   "metadata": {},
   "outputs": [
    {
     "name": "stderr",
     "output_type": "stream",
     "text": [
      "E:\\RMIT\\PYTHON\\software\\lib\\site-packages\\sklearn\\model_selection\\_split.py:657: Warning: The least populated class in y has only 1 members, which is too few. The minimum number of members in any class cannot be less than n_splits=2.\n",
      "  % (min_groups, self.n_splits)), Warning)\n",
      "E:\\RMIT\\PYTHON\\software\\lib\\site-packages\\sklearn\\model_selection\\_split.py:657: Warning: The least populated class in y has only 1 members, which is too few. The minimum number of members in any class cannot be less than n_splits=3.\n",
      "  % (min_groups, self.n_splits)), Warning)\n",
      "E:\\RMIT\\PYTHON\\software\\lib\\site-packages\\sklearn\\model_selection\\_split.py:657: Warning: The least populated class in y has only 1 members, which is too few. The minimum number of members in any class cannot be less than n_splits=4.\n",
      "  % (min_groups, self.n_splits)), Warning)\n",
      "E:\\RMIT\\PYTHON\\software\\lib\\site-packages\\sklearn\\model_selection\\_split.py:657: Warning: The least populated class in y has only 1 members, which is too few. The minimum number of members in any class cannot be less than n_splits=5.\n",
      "  % (min_groups, self.n_splits)), Warning)\n",
      "E:\\RMIT\\PYTHON\\software\\lib\\site-packages\\sklearn\\model_selection\\_split.py:657: Warning: The least populated class in y has only 1 members, which is too few. The minimum number of members in any class cannot be less than n_splits=6.\n",
      "  % (min_groups, self.n_splits)), Warning)\n",
      "E:\\RMIT\\PYTHON\\software\\lib\\site-packages\\sklearn\\model_selection\\_split.py:657: Warning: The least populated class in y has only 1 members, which is too few. The minimum number of members in any class cannot be less than n_splits=7.\n",
      "  % (min_groups, self.n_splits)), Warning)\n",
      "E:\\RMIT\\PYTHON\\software\\lib\\site-packages\\sklearn\\model_selection\\_split.py:657: Warning: The least populated class in y has only 1 members, which is too few. The minimum number of members in any class cannot be less than n_splits=8.\n",
      "  % (min_groups, self.n_splits)), Warning)\n",
      "E:\\RMIT\\PYTHON\\software\\lib\\site-packages\\sklearn\\model_selection\\_split.py:657: Warning: The least populated class in y has only 1 members, which is too few. The minimum number of members in any class cannot be less than n_splits=9.\n",
      "  % (min_groups, self.n_splits)), Warning)\n",
      "E:\\RMIT\\PYTHON\\software\\lib\\site-packages\\sklearn\\model_selection\\_split.py:657: Warning: The least populated class in y has only 1 members, which is too few. The minimum number of members in any class cannot be less than n_splits=10.\n",
      "  % (min_groups, self.n_splits)), Warning)\n",
      "E:\\RMIT\\PYTHON\\software\\lib\\site-packages\\sklearn\\model_selection\\_split.py:657: Warning: The least populated class in y has only 1 members, which is too few. The minimum number of members in any class cannot be less than n_splits=11.\n",
      "  % (min_groups, self.n_splits)), Warning)\n",
      "E:\\RMIT\\PYTHON\\software\\lib\\site-packages\\sklearn\\model_selection\\_split.py:657: Warning: The least populated class in y has only 1 members, which is too few. The minimum number of members in any class cannot be less than n_splits=12.\n",
      "  % (min_groups, self.n_splits)), Warning)\n",
      "E:\\RMIT\\PYTHON\\software\\lib\\site-packages\\sklearn\\model_selection\\_split.py:657: Warning: The least populated class in y has only 1 members, which is too few. The minimum number of members in any class cannot be less than n_splits=13.\n",
      "  % (min_groups, self.n_splits)), Warning)\n",
      "E:\\RMIT\\PYTHON\\software\\lib\\site-packages\\sklearn\\model_selection\\_split.py:657: Warning: The least populated class in y has only 1 members, which is too few. The minimum number of members in any class cannot be less than n_splits=14.\n",
      "  % (min_groups, self.n_splits)), Warning)\n",
      "E:\\RMIT\\PYTHON\\software\\lib\\site-packages\\sklearn\\model_selection\\_split.py:657: Warning: The least populated class in y has only 1 members, which is too few. The minimum number of members in any class cannot be less than n_splits=15.\n",
      "  % (min_groups, self.n_splits)), Warning)\n",
      "E:\\RMIT\\PYTHON\\software\\lib\\site-packages\\sklearn\\model_selection\\_split.py:657: Warning: The least populated class in y has only 1 members, which is too few. The minimum number of members in any class cannot be less than n_splits=16.\n",
      "  % (min_groups, self.n_splits)), Warning)\n",
      "E:\\RMIT\\PYTHON\\software\\lib\\site-packages\\sklearn\\model_selection\\_split.py:657: Warning: The least populated class in y has only 1 members, which is too few. The minimum number of members in any class cannot be less than n_splits=17.\n",
      "  % (min_groups, self.n_splits)), Warning)\n",
      "E:\\RMIT\\PYTHON\\software\\lib\\site-packages\\sklearn\\model_selection\\_split.py:657: Warning: The least populated class in y has only 1 members, which is too few. The minimum number of members in any class cannot be less than n_splits=18.\n",
      "  % (min_groups, self.n_splits)), Warning)\n",
      "E:\\RMIT\\PYTHON\\software\\lib\\site-packages\\sklearn\\model_selection\\_split.py:657: Warning: The least populated class in y has only 1 members, which is too few. The minimum number of members in any class cannot be less than n_splits=19.\n",
      "  % (min_groups, self.n_splits)), Warning)\n",
      "E:\\RMIT\\PYTHON\\software\\lib\\site-packages\\sklearn\\model_selection\\_split.py:657: Warning: The least populated class in y has only 1 members, which is too few. The minimum number of members in any class cannot be less than n_splits=20.\n",
      "  % (min_groups, self.n_splits)), Warning)\n",
      "E:\\RMIT\\PYTHON\\software\\lib\\site-packages\\sklearn\\model_selection\\_split.py:657: Warning: The least populated class in y has only 1 members, which is too few. The minimum number of members in any class cannot be less than n_splits=21.\n",
      "  % (min_groups, self.n_splits)), Warning)\n",
      "E:\\RMIT\\PYTHON\\software\\lib\\site-packages\\sklearn\\model_selection\\_split.py:657: Warning: The least populated class in y has only 1 members, which is too few. The minimum number of members in any class cannot be less than n_splits=22.\n",
      "  % (min_groups, self.n_splits)), Warning)\n",
      "E:\\RMIT\\PYTHON\\software\\lib\\site-packages\\sklearn\\model_selection\\_split.py:657: Warning: The least populated class in y has only 1 members, which is too few. The minimum number of members in any class cannot be less than n_splits=23.\n",
      "  % (min_groups, self.n_splits)), Warning)\n",
      "E:\\RMIT\\PYTHON\\software\\lib\\site-packages\\sklearn\\model_selection\\_split.py:657: Warning: The least populated class in y has only 1 members, which is too few. The minimum number of members in any class cannot be less than n_splits=24.\n",
      "  % (min_groups, self.n_splits)), Warning)\n",
      "E:\\RMIT\\PYTHON\\software\\lib\\site-packages\\sklearn\\model_selection\\_split.py:657: Warning: The least populated class in y has only 1 members, which is too few. The minimum number of members in any class cannot be less than n_splits=25.\n",
      "  % (min_groups, self.n_splits)), Warning)\n",
      "E:\\RMIT\\PYTHON\\software\\lib\\site-packages\\sklearn\\model_selection\\_split.py:657: Warning: The least populated class in y has only 1 members, which is too few. The minimum number of members in any class cannot be less than n_splits=26.\n",
      "  % (min_groups, self.n_splits)), Warning)\n"
     ]
    },
    {
     "data": {
      "text/plain": [
       "Text(0, 0.5, 'Score')"
      ]
     },
     "execution_count": 63,
     "metadata": {},
     "output_type": "execute_result"
    },
    {
     "data": {
      "image/png": "[encoded data removed]",
      "text/plain": [
       "<Figure size 432x288 with 1 Axes>"
      ]
     },
     "metadata": {
      "needs_background": "light"
     },
     "output_type": "display_data"
    }
   ],
   "source": [
    "#Decision tree model using K-fold CV; checking the best value of k and plotting for better visualization\n",
    "\n",
    "score = []\n",
    "ary = []\n",
    "for x in range (2 , 27):\n",
    "    ary = cross_val_score(clf, X_train, y_train, cv=x)\n",
    "    score.append(max(ary[:]))\n",
    "    \n",
    "x = np.arange(2,27,1);\n",
    "y_1 = score\n",
    "plt.plot(x,y_1)\n",
    "plt.xlabel('K-fold')\n",
    "plt.ylabel('Score')"
   ]
  },
  {
   "cell_type": "code",
   "execution_count": 64,
   "metadata": {},
   "outputs": [
    {
     "name": "stdout",
     "output_type": "stream",
     "text": [
      "Decision tree model mean score (K-fold cross validation):  0.20774647887323944\n",
      "              precision    recall  f1-score   support\n",
      "\n",
      "         D13      0.000     0.000     0.000         2\n",
      "         D15      0.000     0.000     0.000         2\n",
      "         E15      0.000     0.000     0.000         1\n",
      "         F08      0.000     0.000     0.000         1\n",
      "         G15      0.000     0.000     0.000         1\n",
      "         I01      0.119     1.000     0.212         7\n",
      "         I02      0.000     0.000     0.000         1\n",
      "         I03      0.000     0.000     0.000         5\n",
      "         I04      0.000     0.000     0.000         2\n",
      "         I05      0.000     0.000     0.000         2\n",
      "         I06      0.125     0.200     0.154         5\n",
      "         I07      0.000     0.000     0.000         4\n",
      "         I08      0.062     0.571     0.111         7\n",
      "         I09      0.000     0.000     0.000         1\n",
      "         I10      0.038     0.250     0.067         4\n",
      "         I15      0.000     0.000     0.000         2\n",
      "         J01      0.000     0.000     0.000         2\n",
      "         J02      0.000     0.000     0.000         1\n",
      "         J03      0.000     0.000     0.000         3\n",
      "         J04      0.000     0.000     0.000         3\n",
      "         J05      0.000     0.000     0.000         3\n",
      "         J06      0.000     0.000     0.000         5\n",
      "         J07      1.000     0.333     0.500         6\n",
      "         J08      0.000     0.000     0.000         5\n",
      "         J15      0.000     0.000     0.000         1\n",
      "         K01      0.000     0.000     0.000         1\n",
      "         K02      0.000     0.000     0.000         3\n",
      "         K03      0.000     0.000     0.000         4\n",
      "         K04      0.000     0.000     0.000         4\n",
      "         K05      0.000     0.000     0.000         5\n",
      "         K06      0.000     0.000     0.000         5\n",
      "         K07      0.000     0.000     0.000         1\n",
      "         L02      0.000     0.000     0.000         2\n",
      "         L03      0.000     0.000     0.000         2\n",
      "         L04      0.000     0.000     0.000         6\n",
      "         L05      0.000     0.000     0.000         1\n",
      "         L06      0.000     0.000     0.000         4\n",
      "         L08      0.000     0.000     0.000         1\n",
      "         L15      0.000     0.000     0.000         3\n",
      "         M01      0.000     0.000     0.000         2\n",
      "         M02      0.000     0.000     0.000         3\n",
      "         M03      0.000     0.000     0.000         3\n",
      "         M04      0.000     0.000     0.000         6\n",
      "         M05      0.000     0.000     0.000         1\n",
      "         M06      0.000     0.000     0.000         5\n",
      "         N01      0.000     0.000     0.000         2\n",
      "         N03      0.000     0.000     0.000         2\n",
      "         N05      0.000     0.000     0.000         2\n",
      "         N06      0.000     0.000     0.000         2\n",
      "         N15      0.000     0.000     0.000         2\n",
      "         O02      0.000     0.000     0.000         2\n",
      "         O03      0.000     0.000     0.000         2\n",
      "         O04      0.308     0.800     0.444         5\n",
      "         O05      0.045     0.250     0.077         4\n",
      "         O06      0.000     0.000     0.000         3\n",
      "         P01      0.000     0.000     0.000         2\n",
      "         P03      0.143     0.250     0.182         4\n",
      "         P04      0.000     0.000     0.000         4\n",
      "         P05      0.000     0.000     0.000         1\n",
      "         P06      0.000     0.000     0.000         1\n",
      "         P15      0.000     0.000     0.000         1\n",
      "         Q02      0.000     0.000     0.000         2\n",
      "         Q03      0.000     0.000     0.000         2\n",
      "         Q04      0.000     0.000     0.000         4\n",
      "         Q05      0.000     0.000     0.000         4\n",
      "         Q06      0.000     0.000     0.000         1\n",
      "         R01      0.000     0.000     0.000         3\n",
      "         R02      0.000     0.000     0.000         3\n",
      "         R03      0.000     0.000     0.000         4\n",
      "         R04      0.000     0.000     0.000         2\n",
      "         R05      0.000     0.000     0.000         2\n",
      "         R06      0.000     0.000     0.000         2\n",
      "         S01      0.061     0.400     0.105         5\n",
      "         S02      0.000     0.000     0.000         4\n",
      "         S03      0.000     0.000     0.000         3\n",
      "         S04      0.800     0.800     0.800         5\n",
      "         S05      0.000     0.000     0.000         1\n",
      "         S06      0.000     0.000     0.000         2\n",
      "         S07      0.000     0.000     0.000         3\n",
      "         S15      0.000     0.000     0.000         2\n",
      "         T03      0.000     0.000     0.000         2\n",
      "         T04      0.000     0.000     0.000         2\n",
      "         T05      0.000     0.000     0.000         1\n",
      "         T15      0.000     0.000     0.000         2\n",
      "         U01      0.167     0.200     0.182         5\n",
      "         U02      0.000     0.000     0.000         1\n",
      "         U03      0.000     0.000     0.000         4\n",
      "         U04      0.000     0.000     0.000         2\n",
      "         U05      0.000     0.000     0.000         2\n",
      "         U15      0.000     0.000     0.000         1\n",
      "         W15      0.000     0.000     0.000         3\n",
      "\n",
      "    accuracy                          0.109       256\n",
      "   macro avg      0.032     0.056     0.031       256\n",
      "weighted avg      0.060     0.109     0.059       256\n",
      "\n"
     ]
    },
    {
     "name": "stderr",
     "output_type": "stream",
     "text": [
      "E:\\RMIT\\PYTHON\\software\\lib\\site-packages\\sklearn\\model_selection\\_split.py:1978: FutureWarning: The default value of cv will change from 3 to 5 in version 0.22. Specify it explicitly to silence this warning.\n",
      "  warnings.warn(CV_WARNING, FutureWarning)\n",
      "E:\\RMIT\\PYTHON\\software\\lib\\site-packages\\sklearn\\model_selection\\_split.py:657: Warning: The least populated class in y has only 1 members, which is too few. The minimum number of members in any class cannot be less than n_splits=3.\n",
      "  % (min_groups, self.n_splits)), Warning)\n",
      "E:\\RMIT\\PYTHON\\software\\lib\\site-packages\\sklearn\\metrics\\classification.py:1437: UndefinedMetricWarning: Precision and F-score are ill-defined and being set to 0.0 in labels with no predicted samples.\n",
      "  'precision', 'predicted', average, warn_for)\n"
     ]
    }
   ],
   "source": [
    "# K-Fold Cross Validation of Decision tree model to check how accurate our model is predicting\n",
    "#Performance Analysis of K-Fold Cross Validation\n",
    "\n",
    "kfold = KFold(n_splits=2,random_state=7)\n",
    "score_arr = cross_val_score(clf, X, y, cv=kfold)\n",
    "\n",
    "print('Decision tree model mean score (K-fold cross validation): ',score_arr.mean())\n",
    "predicted = cross_val_predict(clf, X_test, y_test)\n",
    "print(classification_report(y_test, predicted, digits=3))"
   ]
  },
  {
   "cell_type": "code",
   "execution_count": null,
   "metadata": {},
   "outputs": [],
   "source": []
  },
  {
   "cell_type": "code",
   "execution_count": 65,
   "metadata": {},
   "outputs": [],
   "source": [
    "#########################    KNN    #########################"
   ]
  },
  {
   "cell_type": "code",
   "execution_count": 66,
   "metadata": {},
   "outputs": [],
   "source": [
    "# importing KNN model, importing package and setting parameters\n",
    "\n",
    "from sklearn.neighbors import KNeighborsClassifier\n",
    "clf = KNeighborsClassifier(10,weights='distance', p=2)\n",
    "fit = clf.fit(X_train, y_train)"
   ]
  },
  {
   "cell_type": "code",
   "execution_count": 67,
   "metadata": {},
   "outputs": [
    {
     "data": {
      "text/plain": [
       "array(['R02', 'J07', 'W15', 'I01', 'U03', 'W15', 'W15', 'J04', 'J07',\n",
       "       'I02', 'I02', 'R02', 'I05', 'Q04', 'R02', 'R04', 'J10', 'Q04',\n",
       "       'S05', 'R04', 'W15', 'J03', 'O05', 'J07', 'I05', 'K01', 'O05',\n",
       "       'J08', 'J06', 'J06', 'U03', 'J02', 'R02', 'M06', 'K03', 'P02',\n",
       "       'M06', 'S05', 'R02', 'J08', 'P05', 'R02', 'I01', 'J02', 'I05',\n",
       "       'I06', 'T05', 'J02', 'Q03', 'W15', 'W15', 'I07', 'N03', 'R02',\n",
       "       'I07', 'J02', 'M06', 'I03', 'M03', 'W15', 'I03', 'M01', 'K08',\n",
       "       'R02', 'W15', 'K05', 'I02', 'J06', 'P04', 'W15', 'P01', 'M02',\n",
       "       'W15', 'O04', 'I07', 'I07', 'O06', 'R02', 'J07', 'K03', 'K05',\n",
       "       'W15', 'U03', 'Q04', 'Q05', 'O05', 'S04', 'I03', 'T01', 'U03',\n",
       "       'U03', 'P01', 'I01', 'W15', 'T04', 'O04', 'I02', 'W15', 'S04',\n",
       "       'P01', 'K01', 'W15', 'K03', 'J06', 'S05', 'W15', 'R02', 'J07',\n",
       "       'O05', 'J01', 'J02', 'J06', 'R02', 'I02', 'S04', 'W15', 'K03',\n",
       "       'T04', 'J02', 'R02', 'I03', 'Q05', 'O05', 'I08', 'P03', 'J04',\n",
       "       'M02', 'O05', 'J07', 'I03', 'L05', 'W15', 'N06', 'P05', 'K03',\n",
       "       'W15', 'K03', 'K07', 'M06', 'M06', 'R04', 'W15', 'P05', 'L03',\n",
       "       'R02', 'I07', 'N02', 'U02', 'W15', 'U02', 'P05', 'J03', 'W15',\n",
       "       'N02', 'S04', 'J06', 'I02', 'O03', 'K05', 'M03', 'W15', 'S02',\n",
       "       'J02', 'W15', 'K04', 'R02', 'R02', 'N03', 'L02', 'I01', 'I01',\n",
       "       'W15', 'W15', 'W15', 'S06', 'R02', 'P01', 'W15', 'L02', 'I06',\n",
       "       'I01', 'K05', 'K03', 'W15', 'O03', 'Q03', 'M01', 'O05', 'I02',\n",
       "       'R02', 'I01', 'L02', 'J02', 'W15', 'K07', 'R02', 'U03', 'W15',\n",
       "       'N03', 'K02', 'J03', 'S04', 'J02', 'N01', 'K03', 'Q05', 'I03',\n",
       "       'K05', 'K06', 'K01', 'M02', 'J02', 'I07', 'W15', 'U03', 'Q05',\n",
       "       'I05', 'W15', 'O04', 'T01', 'J06', 'T01', 'O04', 'W15', 'J07',\n",
       "       'U01', 'L05', 'I04', 'N02', 'I02', 'R02', 'I02', 'T01', 'P01',\n",
       "       'K01', 'W15', 'O05', 'T01', 'J02', 'M04', 'S02', 'N06', 'L02',\n",
       "       'P03', 'N03', 'N01', 'M01', 'J05', 'I07', 'O04', 'K04', 'M04',\n",
       "       'P01', 'U03', 'I08', 'P01'], dtype=object)"
      ]
     },
     "execution_count": 67,
     "metadata": {},
     "output_type": "execute_result"
    }
   ],
   "source": [
    "#predicting values\n",
    "\n",
    "y_pre = fit.predict(X_test)\n",
    "y_pre"
   ]
  },
  {
   "cell_type": "code",
   "execution_count": 68,
   "metadata": {},
   "outputs": [
    {
     "data": {
      "text/plain": [
       "(256,)"
      ]
     },
     "execution_count": 68,
     "metadata": {},
     "output_type": "execute_result"
    }
   ],
   "source": [
    "#checking dimension of predicted value array\n",
    "y_pre.shape"
   ]
  },
  {
   "cell_type": "code",
   "execution_count": 69,
   "metadata": {},
   "outputs": [
    {
     "name": "stdout",
     "output_type": "stream",
     "text": [
      "[[0 0 0 ... 0 0 2]\n",
      " [0 0 0 ... 0 0 2]\n",
      " [0 0 0 ... 0 0 1]\n",
      " ...\n",
      " [0 0 0 ... 0 0 0]\n",
      " [0 0 0 ... 0 0 1]\n",
      " [0 0 0 ... 0 0 3]]\n"
     ]
    }
   ],
   "source": [
    "# getting confusion matrix to see performance of our model\n",
    "\n",
    "from sklearn.metrics import confusion_matrix\n",
    "cm = confusion_matrix(y_test, y_pre)\n",
    "print(cm)"
   ]
  },
  {
   "cell_type": "code",
   "execution_count": 70,
   "metadata": {},
   "outputs": [
    {
     "name": "stdout",
     "output_type": "stream",
     "text": [
      "              precision    recall  f1-score   support\n",
      "\n",
      "         D13       0.00      0.00      0.00         2\n",
      "         D15       0.00      0.00      0.00         2\n",
      "         E15       0.00      0.00      0.00         1\n",
      "         F08       0.00      0.00      0.00         1\n",
      "         G15       0.00      0.00      0.00         1\n",
      "         I01       0.43      0.43      0.43         7\n",
      "         I02       0.11      1.00      0.20         1\n",
      "         I03       0.33      0.40      0.36         5\n",
      "         I04       0.00      0.00      0.00         2\n",
      "         I05       0.00      0.00      0.00         2\n",
      "         I06       0.50      0.20      0.29         5\n",
      "         I07       0.29      0.50      0.36         4\n",
      "         I08       1.00      0.29      0.44         7\n",
      "         I09       0.00      0.00      0.00         1\n",
      "         I10       0.00      0.00      0.00         4\n",
      "         I15       0.00      0.00      0.00         2\n",
      "         J01       0.00      0.00      0.00         2\n",
      "         J02       0.00      0.00      0.00         1\n",
      "         J03       0.00      0.00      0.00         3\n",
      "         J04       0.00      0.00      0.00         3\n",
      "         J05       1.00      0.33      0.50         3\n",
      "         J06       0.00      0.00      0.00         5\n",
      "         J07       0.57      0.67      0.62         6\n",
      "         J08       0.50      0.20      0.29         5\n",
      "         J10       0.00      0.00      0.00         0\n",
      "         J15       0.00      0.00      0.00         1\n",
      "         K01       0.00      0.00      0.00         1\n",
      "         K02       0.00      0.00      0.00         3\n",
      "         K03       0.12      0.25      0.17         4\n",
      "         K04       0.50      0.25      0.33         4\n",
      "         K05       0.20      0.20      0.20         5\n",
      "         K06       0.00      0.00      0.00         5\n",
      "         K07       0.50      1.00      0.67         1\n",
      "         K08       0.00      0.00      0.00         0\n",
      "         L02       0.25      0.50      0.33         2\n",
      "         L03       0.00      0.00      0.00         2\n",
      "         L04       0.00      0.00      0.00         6\n",
      "         L05       0.00      0.00      0.00         1\n",
      "         L06       0.00      0.00      0.00         4\n",
      "         L08       0.00      0.00      0.00         1\n",
      "         L15       0.00      0.00      0.00         3\n",
      "         M01       0.00      0.00      0.00         2\n",
      "         M02       0.33      0.33      0.33         3\n",
      "         M03       0.50      0.33      0.40         3\n",
      "         M04       0.00      0.00      0.00         6\n",
      "         M05       0.00      0.00      0.00         1\n",
      "         M06       0.80      0.80      0.80         5\n",
      "         N01       0.50      0.50      0.50         2\n",
      "         N02       0.00      0.00      0.00         0\n",
      "         N03       0.25      0.50      0.33         2\n",
      "         N05       0.00      0.00      0.00         2\n",
      "         N06       0.50      0.50      0.50         2\n",
      "         N15       0.00      0.00      0.00         2\n",
      "         O02       0.00      0.00      0.00         2\n",
      "         O03       0.50      0.50      0.50         2\n",
      "         O04       0.80      0.80      0.80         5\n",
      "         O05       0.38      0.75      0.50         4\n",
      "         O06       0.00      0.00      0.00         3\n",
      "         P01       0.29      1.00      0.44         2\n",
      "         P02       0.00      0.00      0.00         0\n",
      "         P03       1.00      0.50      0.67         4\n",
      "         P04       1.00      0.25      0.40         4\n",
      "         P05       0.00      0.00      0.00         1\n",
      "         P06       0.00      0.00      0.00         1\n",
      "         P15       0.00      0.00      0.00         1\n",
      "         Q02       0.00      0.00      0.00         2\n",
      "         Q03       0.50      0.50      0.50         2\n",
      "         Q04       0.33      0.25      0.29         4\n",
      "         Q05       0.25      0.25      0.25         4\n",
      "         Q06       0.00      0.00      0.00         1\n",
      "         R01       0.00      0.00      0.00         3\n",
      "         R02       0.05      0.33      0.09         3\n",
      "         R03       0.00      0.00      0.00         4\n",
      "         R04       0.67      1.00      0.80         2\n",
      "         R05       0.00      0.00      0.00         2\n",
      "         R06       0.00      0.00      0.00         2\n",
      "         S01       0.00      0.00      0.00         5\n",
      "         S02       0.00      0.00      0.00         4\n",
      "         S03       0.00      0.00      0.00         3\n",
      "         S04       1.00      1.00      1.00         5\n",
      "         S05       0.33      1.00      0.50         1\n",
      "         S06       0.00      0.00      0.00         2\n",
      "         S07       0.00      0.00      0.00         3\n",
      "         S15       0.00      0.00      0.00         2\n",
      "         T01       0.00      0.00      0.00         0\n",
      "         T03       0.00      0.00      0.00         2\n",
      "         T04       0.50      0.50      0.50         2\n",
      "         T05       0.00      0.00      0.00         1\n",
      "         T15       0.00      0.00      0.00         2\n",
      "         U01       1.00      0.20      0.33         5\n",
      "         U02       0.50      1.00      0.67         1\n",
      "         U03       0.00      0.00      0.00         4\n",
      "         U04       0.00      0.00      0.00         2\n",
      "         U05       0.00      0.00      0.00         2\n",
      "         U15       0.00      0.00      0.00         1\n",
      "         W15       0.09      1.00      0.16         3\n",
      "\n",
      "    accuracy                           0.24       256\n",
      "   macro avg       0.19      0.21      0.17       256\n",
      "weighted avg       0.27      0.24      0.22       256\n",
      "\n"
     ]
    },
    {
     "name": "stderr",
     "output_type": "stream",
     "text": [
      "E:\\RMIT\\PYTHON\\software\\lib\\site-packages\\sklearn\\metrics\\classification.py:1437: UndefinedMetricWarning: Precision and F-score are ill-defined and being set to 0.0 in labels with no predicted samples.\n",
      "  'precision', 'predicted', average, warn_for)\n",
      "E:\\RMIT\\PYTHON\\software\\lib\\site-packages\\sklearn\\metrics\\classification.py:1439: UndefinedMetricWarning: Recall and F-score are ill-defined and being set to 0.0 in labels with no true samples.\n",
      "  'recall', 'true', average, warn_for)\n"
     ]
    }
   ],
   "source": [
    "#printing report to see details\n",
    "\n",
    "from sklearn.metrics import classification_report\n",
    "print(classification_report(y_test,y_pre))"
   ]
  },
  {
   "cell_type": "code",
   "execution_count": 71,
   "metadata": {},
   "outputs": [
    {
     "name": "stdout",
     "output_type": "stream",
     "text": [
      "Accuracy Score: 0.2421875\n"
     ]
    }
   ],
   "source": [
    "# calculating accuracy of the model\n",
    "\n",
    "from sklearn import metrics \n",
    "print('Accuracy Score:', metrics.accuracy_score(y_test,y_pre))\n"
   ]
  },
  {
   "cell_type": "code",
   "execution_count": 72,
   "metadata": {},
   "outputs": [
    {
     "name": "stderr",
     "output_type": "stream",
     "text": [
      "E:\\RMIT\\PYTHON\\software\\lib\\site-packages\\sklearn\\model_selection\\_split.py:657: Warning: The least populated class in y has only 1 members, which is too few. The minimum number of members in any class cannot be less than n_splits=2.\n",
      "  % (min_groups, self.n_splits)), Warning)\n",
      "E:\\RMIT\\PYTHON\\software\\lib\\site-packages\\sklearn\\model_selection\\_split.py:657: Warning: The least populated class in y has only 1 members, which is too few. The minimum number of members in any class cannot be less than n_splits=3.\n",
      "  % (min_groups, self.n_splits)), Warning)\n",
      "E:\\RMIT\\PYTHON\\software\\lib\\site-packages\\sklearn\\model_selection\\_split.py:657: Warning: The least populated class in y has only 1 members, which is too few. The minimum number of members in any class cannot be less than n_splits=4.\n",
      "  % (min_groups, self.n_splits)), Warning)\n",
      "E:\\RMIT\\PYTHON\\software\\lib\\site-packages\\sklearn\\model_selection\\_split.py:657: Warning: The least populated class in y has only 1 members, which is too few. The minimum number of members in any class cannot be less than n_splits=5.\n",
      "  % (min_groups, self.n_splits)), Warning)\n",
      "E:\\RMIT\\PYTHON\\software\\lib\\site-packages\\sklearn\\model_selection\\_split.py:657: Warning: The least populated class in y has only 1 members, which is too few. The minimum number of members in any class cannot be less than n_splits=6.\n",
      "  % (min_groups, self.n_splits)), Warning)\n",
      "E:\\RMIT\\PYTHON\\software\\lib\\site-packages\\sklearn\\model_selection\\_split.py:657: Warning: The least populated class in y has only 1 members, which is too few. The minimum number of members in any class cannot be less than n_splits=7.\n",
      "  % (min_groups, self.n_splits)), Warning)\n",
      "E:\\RMIT\\PYTHON\\software\\lib\\site-packages\\sklearn\\model_selection\\_split.py:657: Warning: The least populated class in y has only 1 members, which is too few. The minimum number of members in any class cannot be less than n_splits=8.\n",
      "  % (min_groups, self.n_splits)), Warning)\n",
      "E:\\RMIT\\PYTHON\\software\\lib\\site-packages\\sklearn\\model_selection\\_split.py:657: Warning: The least populated class in y has only 1 members, which is too few. The minimum number of members in any class cannot be less than n_splits=9.\n",
      "  % (min_groups, self.n_splits)), Warning)\n",
      "E:\\RMIT\\PYTHON\\software\\lib\\site-packages\\sklearn\\model_selection\\_split.py:657: Warning: The least populated class in y has only 1 members, which is too few. The minimum number of members in any class cannot be less than n_splits=10.\n",
      "  % (min_groups, self.n_splits)), Warning)\n",
      "E:\\RMIT\\PYTHON\\software\\lib\\site-packages\\sklearn\\model_selection\\_split.py:657: Warning: The least populated class in y has only 1 members, which is too few. The minimum number of members in any class cannot be less than n_splits=11.\n",
      "  % (min_groups, self.n_splits)), Warning)\n",
      "E:\\RMIT\\PYTHON\\software\\lib\\site-packages\\sklearn\\model_selection\\_split.py:657: Warning: The least populated class in y has only 1 members, which is too few. The minimum number of members in any class cannot be less than n_splits=12.\n",
      "  % (min_groups, self.n_splits)), Warning)\n",
      "E:\\RMIT\\PYTHON\\software\\lib\\site-packages\\sklearn\\model_selection\\_split.py:657: Warning: The least populated class in y has only 1 members, which is too few. The minimum number of members in any class cannot be less than n_splits=13.\n",
      "  % (min_groups, self.n_splits)), Warning)\n",
      "E:\\RMIT\\PYTHON\\software\\lib\\site-packages\\sklearn\\model_selection\\_split.py:657: Warning: The least populated class in y has only 1 members, which is too few. The minimum number of members in any class cannot be less than n_splits=14.\n",
      "  % (min_groups, self.n_splits)), Warning)\n",
      "E:\\RMIT\\PYTHON\\software\\lib\\site-packages\\sklearn\\model_selection\\_split.py:657: Warning: The least populated class in y has only 1 members, which is too few. The minimum number of members in any class cannot be less than n_splits=15.\n",
      "  % (min_groups, self.n_splits)), Warning)\n",
      "E:\\RMIT\\PYTHON\\software\\lib\\site-packages\\sklearn\\model_selection\\_split.py:657: Warning: The least populated class in y has only 1 members, which is too few. The minimum number of members in any class cannot be less than n_splits=16.\n",
      "  % (min_groups, self.n_splits)), Warning)\n",
      "E:\\RMIT\\PYTHON\\software\\lib\\site-packages\\sklearn\\model_selection\\_split.py:657: Warning: The least populated class in y has only 1 members, which is too few. The minimum number of members in any class cannot be less than n_splits=17.\n",
      "  % (min_groups, self.n_splits)), Warning)\n",
      "E:\\RMIT\\PYTHON\\software\\lib\\site-packages\\sklearn\\model_selection\\_split.py:657: Warning: The least populated class in y has only 1 members, which is too few. The minimum number of members in any class cannot be less than n_splits=18.\n",
      "  % (min_groups, self.n_splits)), Warning)\n",
      "E:\\RMIT\\PYTHON\\software\\lib\\site-packages\\sklearn\\model_selection\\_split.py:657: Warning: The least populated class in y has only 1 members, which is too few. The minimum number of members in any class cannot be less than n_splits=19.\n",
      "  % (min_groups, self.n_splits)), Warning)\n",
      "E:\\RMIT\\PYTHON\\software\\lib\\site-packages\\sklearn\\model_selection\\_split.py:657: Warning: The least populated class in y has only 1 members, which is too few. The minimum number of members in any class cannot be less than n_splits=20.\n",
      "  % (min_groups, self.n_splits)), Warning)\n",
      "E:\\RMIT\\PYTHON\\software\\lib\\site-packages\\sklearn\\model_selection\\_split.py:657: Warning: The least populated class in y has only 1 members, which is too few. The minimum number of members in any class cannot be less than n_splits=21.\n",
      "  % (min_groups, self.n_splits)), Warning)\n",
      "E:\\RMIT\\PYTHON\\software\\lib\\site-packages\\sklearn\\model_selection\\_split.py:657: Warning: The least populated class in y has only 1 members, which is too few. The minimum number of members in any class cannot be less than n_splits=22.\n",
      "  % (min_groups, self.n_splits)), Warning)\n",
      "E:\\RMIT\\PYTHON\\software\\lib\\site-packages\\sklearn\\model_selection\\_split.py:657: Warning: The least populated class in y has only 1 members, which is too few. The minimum number of members in any class cannot be less than n_splits=23.\n",
      "  % (min_groups, self.n_splits)), Warning)\n",
      "E:\\RMIT\\PYTHON\\software\\lib\\site-packages\\sklearn\\model_selection\\_split.py:657: Warning: The least populated class in y has only 1 members, which is too few. The minimum number of members in any class cannot be less than n_splits=24.\n",
      "  % (min_groups, self.n_splits)), Warning)\n",
      "E:\\RMIT\\PYTHON\\software\\lib\\site-packages\\sklearn\\model_selection\\_split.py:657: Warning: The least populated class in y has only 1 members, which is too few. The minimum number of members in any class cannot be less than n_splits=25.\n",
      "  % (min_groups, self.n_splits)), Warning)\n",
      "E:\\RMIT\\PYTHON\\software\\lib\\site-packages\\sklearn\\model_selection\\_split.py:657: Warning: The least populated class in y has only 1 members, which is too few. The minimum number of members in any class cannot be less than n_splits=26.\n",
      "  % (min_groups, self.n_splits)), Warning)\n"
     ]
    },
    {
     "data": {
      "text/plain": [
       "Text(0, 0.5, 'Score')"
      ]
     },
     "execution_count": 72,
     "metadata": {},
     "output_type": "execute_result"
    },
    {
     "data": {
      "image/png": "[encoded data removed]",
      "text/plain": [
       "<Figure size 432x288 with 1 Axes>"
      ]
     },
     "metadata": {
      "needs_background": "light"
     },
     "output_type": "display_data"
    }
   ],
   "source": [
    "#KNN model using K-fold CV, checking best k value\n",
    "score = []\n",
    "ary = []\n",
    "for x in range (2 , 27):\n",
    "    ary = cross_val_score(clf, X_train, y_train, cv=x)\n",
    "    score.append(max(ary[:]))\n",
    "    \n",
    "x = np.arange(2,27,1);\n",
    "y_1 = score\n",
    "plt.plot(x,y_1)\n",
    "plt.xlabel('K-fold')\n",
    "plt.ylabel('Score')"
   ]
  },
  {
   "cell_type": "code",
   "execution_count": 73,
   "metadata": {},
   "outputs": [
    {
     "name": "stdout",
     "output_type": "stream",
     "text": [
      "KNN model mean score (K-fold cross validation):  0.3901408450704225\n",
      "              precision    recall  f1-score   support\n",
      "\n",
      "         D13      0.056     0.500     0.100         2\n",
      "         D15      0.077     0.500     0.133         2\n",
      "         E15      0.000     0.000     0.000         1\n",
      "         F08      0.000     0.000     0.000         1\n",
      "         G15      0.000     0.000     0.000         1\n",
      "         I01      0.067     0.143     0.091         7\n",
      "         I02      0.000     0.000     0.000         1\n",
      "         I03      0.000     0.000     0.000         5\n",
      "         I04      0.000     0.000     0.000         2\n",
      "         I05      0.000     0.000     0.000         2\n",
      "         I06      0.364     0.800     0.500         5\n",
      "         I07      0.400     0.500     0.444         4\n",
      "         I08      0.000     0.000     0.000         7\n",
      "         I09      0.000     0.000     0.000         1\n",
      "         I10      0.000     0.000     0.000         4\n",
      "         I15      0.000     0.000     0.000         2\n",
      "         J01      0.000     0.000     0.000         2\n",
      "         J02      0.000     0.000     0.000         1\n",
      "         J03      0.000     0.000     0.000         3\n",
      "         J04      0.000     0.000     0.000         3\n",
      "         J05      0.000     0.000     0.000         3\n",
      "         J06      0.000     0.000     0.000         5\n",
      "         J07      0.667     0.667     0.667         6\n",
      "         J08      0.500     0.400     0.444         5\n",
      "         J15      0.000     0.000     0.000         1\n",
      "         K01      0.000     0.000     0.000         1\n",
      "         K02      0.000     0.000     0.000         3\n",
      "         K03      0.000     0.000     0.000         4\n",
      "         K04      0.000     0.000     0.000         4\n",
      "         K05      0.000     0.000     0.000         5\n",
      "         K06      0.333     0.600     0.429         5\n",
      "         K07      0.000     0.000     0.000         1\n",
      "         L02      0.000     0.000     0.000         2\n",
      "         L03      0.400     1.000     0.571         2\n",
      "         L04      0.000     0.000     0.000         6\n",
      "         L05      0.000     0.000     0.000         1\n",
      "         L06      0.000     0.000     0.000         4\n",
      "         L08      0.000     0.000     0.000         1\n",
      "         L15      0.000     0.000     0.000         3\n",
      "         M01      0.000     0.000     0.000         2\n",
      "         M02      0.250     0.333     0.286         3\n",
      "         M03      1.000     0.667     0.800         3\n",
      "         M04      0.250     0.500     0.333         6\n",
      "         M05      0.000     0.000     0.000         1\n",
      "         M06      0.000     0.000     0.000         5\n",
      "         N01      0.000     0.000     0.000         2\n",
      "         N03      0.667     1.000     0.800         2\n",
      "         N05      0.000     0.000     0.000         2\n",
      "         N06      0.000     0.000     0.000         2\n",
      "         N15      0.000     0.000     0.000         2\n",
      "         O02      0.000     0.000     0.000         2\n",
      "         O03      0.000     0.000     0.000         2\n",
      "         O04      1.000     0.400     0.571         5\n",
      "         O05      0.167     0.250     0.200         4\n",
      "         O06      0.000     0.000     0.000         3\n",
      "         P01      0.000     0.000     0.000         2\n",
      "         P03      0.222     0.500     0.308         4\n",
      "         P04      0.250     0.250     0.250         4\n",
      "         P05      0.000     0.000     0.000         1\n",
      "         P06      0.000     0.000     0.000         1\n",
      "         P15      0.000     0.000     0.000         1\n",
      "         Q02      0.000     0.000     0.000         2\n",
      "         Q03      0.000     0.000     0.000         2\n",
      "         Q04      0.250     0.250     0.250         4\n",
      "         Q05      0.000     0.000     0.000         4\n",
      "         Q06      0.000     0.000     0.000         1\n",
      "         R01      0.250     0.667     0.364         3\n",
      "         R02      0.000     0.000     0.000         3\n",
      "         R03      0.000     0.000     0.000         4\n",
      "         R04      0.000     0.000     0.000         2\n",
      "         R05      0.000     0.000     0.000         2\n",
      "         R06      0.000     0.000     0.000         2\n",
      "         S01      0.000     0.000     0.000         5\n",
      "         S02      0.000     0.000     0.000         4\n",
      "         S03      0.000     0.000     0.000         3\n",
      "         S04      0.800     0.800     0.800         5\n",
      "         S05      0.000     0.000     0.000         1\n",
      "         S06      0.000     0.000     0.000         2\n",
      "         S07      0.000     0.000     0.000         3\n",
      "         S15      0.000     0.000     0.000         2\n",
      "         T03      0.000     0.000     0.000         2\n",
      "         T04      0.000     0.000     0.000         2\n",
      "         T05      0.000     0.000     0.000         1\n",
      "         T15      0.000     0.000     0.000         2\n",
      "         U01      0.286     0.400     0.333         5\n",
      "         U02      0.000     0.000     0.000         1\n",
      "         U03      0.000     0.000     0.000         4\n",
      "         U04      0.000     0.000     0.000         2\n",
      "         U05      0.000     0.000     0.000         2\n",
      "         U15      0.000     0.000     0.000         1\n",
      "         W15      0.000     0.000     0.000         3\n",
      "\n",
      "    accuracy                          0.168       256\n",
      "   macro avg      0.091     0.122     0.095       256\n",
      "weighted avg      0.135     0.168     0.138       256\n",
      "\n"
     ]
    },
    {
     "name": "stderr",
     "output_type": "stream",
     "text": [
      "E:\\RMIT\\PYTHON\\software\\lib\\site-packages\\sklearn\\model_selection\\_split.py:1978: FutureWarning: The default value of cv will change from 3 to 5 in version 0.22. Specify it explicitly to silence this warning.\n",
      "  warnings.warn(CV_WARNING, FutureWarning)\n",
      "E:\\RMIT\\PYTHON\\software\\lib\\site-packages\\sklearn\\model_selection\\_split.py:657: Warning: The least populated class in y has only 1 members, which is too few. The minimum number of members in any class cannot be less than n_splits=3.\n",
      "  % (min_groups, self.n_splits)), Warning)\n",
      "E:\\RMIT\\PYTHON\\software\\lib\\site-packages\\sklearn\\metrics\\classification.py:1437: UndefinedMetricWarning: Precision and F-score are ill-defined and being set to 0.0 in labels with no predicted samples.\n",
      "  'precision', 'predicted', average, warn_for)\n"
     ]
    }
   ],
   "source": [
    "#K-Fold Cross Validation of Decision tree model\n",
    "#Performance Analysis of K-Fold Cross Validation\n",
    "kfold = KFold(n_splits=2,random_state=7)\n",
    "score_arr = cross_val_score(clf, X, y, cv=kfold)\n",
    "\n",
    "print('KNN model mean score (K-fold cross validation): ',score_arr.mean())\n",
    "predicted = cross_val_predict(clf, X_test, y_test)\n",
    "print(classification_report(y_test, predicted, digits=3))"
   ]
  }
 ],
 "metadata": {
  "kernelspec": {
   "display_name": "Python 3",
   "language": "python",
   "name": "python3"
  },
  "language_info": {
   "codemirror_mode": {
    "name": "ipython",
    "version": 3
   },
   "file_extension": ".py",
   "mimetype": "text/x-python",
   "name": "python",
   "nbconvert_exporter": "python",
   "pygments_lexer": "ipython3",
   "version": "3.7.6"
  }
 },
 "nbformat": 4,
 "nbformat_minor": 2
}
